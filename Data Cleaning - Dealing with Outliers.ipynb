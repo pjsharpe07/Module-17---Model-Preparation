{
 "cells": [
  {
   "cell_type": "code",
   "execution_count": 1,
   "metadata": {},
   "outputs": [],
   "source": [
    "import pandas as pd\n",
    "import numpy as np\n",
    "from sqlalchemy import create_engine\n",
    "import warnings\n",
    "import seaborn as sns\n",
    "import matplotlib.pyplot as plt\n",
    "%matplotlib inline\n",
    "\n",
    "warnings.filterwarnings('ignore')"
   ]
  },
  {
   "cell_type": "code",
   "execution_count": 2,
   "metadata": {},
   "outputs": [],
   "source": [
    "postgres_user = 'dsbc_student'\n",
    "postgres_pw = '7*.8G9QH21'\n",
    "postgres_host = '142.93.121.174'\n",
    "postgres_port = '5432'\n",
    "postgres_db = 'useducation'"
   ]
  },
  {
   "cell_type": "code",
   "execution_count": 3,
   "metadata": {},
   "outputs": [],
   "source": [
    "engine = create_engine('postgresql://{}:{}@{}:{}/{}'.format(\n",
    "    postgres_user, postgres_pw, postgres_host, postgres_port, postgres_db))\n",
    "\n",
    "df = pd.read_sql_query('select * from useducation',con=engine)\n",
    "\n",
    "# no need for an open connection, \n",
    "# as we're only doing a single query\n",
    "engine.dispose()"
   ]
  },
  {
   "cell_type": "markdown",
   "metadata": {},
   "source": [
    "To complete this assignment, submit a link to a Jupyter notebook containing your solutions to the following tasks:\n",
    "\n",
    "1. Determine all the variable types and find the fraction of the missing values for each variable.\n",
    "2. Notice that the data has a time dimension (year). For this assignment, forget about time and treat all the observations as if they're from the same year. Choose a strategy to deal with the missing values for each variables. For which variables would filling in the missing values with some value make sense? For which might tossing out the records entirely make sense?\n",
    "3. Now, take into account the time factor. Replicate your second answer but this time fill in the missing values by using a statistic that is calculated within the year of the observation. For example, if you want to fill a missing value for a variable with the mean of that variable, calculate the mean by using *only* the observations for that specific year.\n",
    "4. This time, fill in the missing values using interpolation (extrapolation).\n",
    "5. Compare your results for the 2nd, 3rd, and 4th questions. Do you find any meaningful differences?"
   ]
  },
  {
   "cell_type": "code",
   "execution_count": 4,
   "metadata": {},
   "outputs": [
    {
     "data": {
      "text/html": [
       "<div>\n",
       "<style scoped>\n",
       "    .dataframe tbody tr th:only-of-type {\n",
       "        vertical-align: middle;\n",
       "    }\n",
       "\n",
       "    .dataframe tbody tr th {\n",
       "        vertical-align: top;\n",
       "    }\n",
       "\n",
       "    .dataframe thead th {\n",
       "        text-align: right;\n",
       "    }\n",
       "</style>\n",
       "<table border=\"1\" class=\"dataframe\">\n",
       "  <thead>\n",
       "    <tr style=\"text-align: right;\">\n",
       "      <th></th>\n",
       "      <th>PRIMARY_KEY</th>\n",
       "      <th>STATE</th>\n",
       "      <th>YEAR</th>\n",
       "      <th>ENROLL</th>\n",
       "      <th>TOTAL_REVENUE</th>\n",
       "      <th>FEDERAL_REVENUE</th>\n",
       "      <th>STATE_REVENUE</th>\n",
       "      <th>LOCAL_REVENUE</th>\n",
       "      <th>TOTAL_EXPENDITURE</th>\n",
       "      <th>INSTRUCTION_EXPENDITURE</th>\n",
       "      <th>...</th>\n",
       "      <th>GRADES_4_G</th>\n",
       "      <th>GRADES_8_G</th>\n",
       "      <th>GRADES_12_G</th>\n",
       "      <th>GRADES_1_8_G</th>\n",
       "      <th>GRADES_9_12_G</th>\n",
       "      <th>GRADES_ALL_G</th>\n",
       "      <th>AVG_MATH_4_SCORE</th>\n",
       "      <th>AVG_MATH_8_SCORE</th>\n",
       "      <th>AVG_READING_4_SCORE</th>\n",
       "      <th>AVG_READING_8_SCORE</th>\n",
       "    </tr>\n",
       "  </thead>\n",
       "  <tbody>\n",
       "    <tr>\n",
       "      <th>0</th>\n",
       "      <td>1992_ALABAMA</td>\n",
       "      <td>ALABAMA</td>\n",
       "      <td>1992</td>\n",
       "      <td>NaN</td>\n",
       "      <td>2678885.0</td>\n",
       "      <td>304177.0</td>\n",
       "      <td>1659028.0</td>\n",
       "      <td>715680.0</td>\n",
       "      <td>2653798.0</td>\n",
       "      <td>1481703.0</td>\n",
       "      <td>...</td>\n",
       "      <td>57948.0</td>\n",
       "      <td>58025.0</td>\n",
       "      <td>41167.0</td>\n",
       "      <td>471564.0</td>\n",
       "      <td>196386.0</td>\n",
       "      <td>676174.0</td>\n",
       "      <td>208.327876</td>\n",
       "      <td>252.187522</td>\n",
       "      <td>207.963517</td>\n",
       "      <td>NaN</td>\n",
       "    </tr>\n",
       "    <tr>\n",
       "      <th>1</th>\n",
       "      <td>1992_ALASKA</td>\n",
       "      <td>ALASKA</td>\n",
       "      <td>1992</td>\n",
       "      <td>NaN</td>\n",
       "      <td>1049591.0</td>\n",
       "      <td>106780.0</td>\n",
       "      <td>720711.0</td>\n",
       "      <td>222100.0</td>\n",
       "      <td>972488.0</td>\n",
       "      <td>498362.0</td>\n",
       "      <td>...</td>\n",
       "      <td>9748.0</td>\n",
       "      <td>8789.0</td>\n",
       "      <td>6714.0</td>\n",
       "      <td>79117.0</td>\n",
       "      <td>30847.0</td>\n",
       "      <td>112335.0</td>\n",
       "      <td>NaN</td>\n",
       "      <td>NaN</td>\n",
       "      <td>NaN</td>\n",
       "      <td>258.859712</td>\n",
       "    </tr>\n",
       "    <tr>\n",
       "      <th>2</th>\n",
       "      <td>1992_ARIZONA</td>\n",
       "      <td>ARIZONA</td>\n",
       "      <td>1992</td>\n",
       "      <td>NaN</td>\n",
       "      <td>3258079.0</td>\n",
       "      <td>297888.0</td>\n",
       "      <td>1369815.0</td>\n",
       "      <td>1590376.0</td>\n",
       "      <td>3401580.0</td>\n",
       "      <td>1435908.0</td>\n",
       "      <td>...</td>\n",
       "      <td>55433.0</td>\n",
       "      <td>49081.0</td>\n",
       "      <td>37410.0</td>\n",
       "      <td>437127.0</td>\n",
       "      <td>175210.0</td>\n",
       "      <td>614881.0</td>\n",
       "      <td>215.253932</td>\n",
       "      <td>265.366278</td>\n",
       "      <td>206.212716</td>\n",
       "      <td>262.169895</td>\n",
       "    </tr>\n",
       "    <tr>\n",
       "      <th>3</th>\n",
       "      <td>1992_ARKANSAS</td>\n",
       "      <td>ARKANSAS</td>\n",
       "      <td>1992</td>\n",
       "      <td>NaN</td>\n",
       "      <td>1711959.0</td>\n",
       "      <td>178571.0</td>\n",
       "      <td>958785.0</td>\n",
       "      <td>574603.0</td>\n",
       "      <td>1743022.0</td>\n",
       "      <td>964323.0</td>\n",
       "      <td>...</td>\n",
       "      <td>34632.0</td>\n",
       "      <td>36011.0</td>\n",
       "      <td>27651.0</td>\n",
       "      <td>281338.0</td>\n",
       "      <td>123113.0</td>\n",
       "      <td>405259.0</td>\n",
       "      <td>210.206028</td>\n",
       "      <td>256.312090</td>\n",
       "      <td>208.634458</td>\n",
       "      <td>264.619665</td>\n",
       "    </tr>\n",
       "    <tr>\n",
       "      <th>4</th>\n",
       "      <td>1992_CALIFORNIA</td>\n",
       "      <td>CALIFORNIA</td>\n",
       "      <td>1992</td>\n",
       "      <td>NaN</td>\n",
       "      <td>26260025.0</td>\n",
       "      <td>2072470.0</td>\n",
       "      <td>16546514.0</td>\n",
       "      <td>7641041.0</td>\n",
       "      <td>27138832.0</td>\n",
       "      <td>14358922.0</td>\n",
       "      <td>...</td>\n",
       "      <td>418418.0</td>\n",
       "      <td>363296.0</td>\n",
       "      <td>270675.0</td>\n",
       "      <td>3286034.0</td>\n",
       "      <td>1372011.0</td>\n",
       "      <td>4717112.0</td>\n",
       "      <td>208.398961</td>\n",
       "      <td>260.892247</td>\n",
       "      <td>196.764414</td>\n",
       "      <td>NaN</td>\n",
       "    </tr>\n",
       "  </tbody>\n",
       "</table>\n",
       "<p>5 rows × 25 columns</p>\n",
       "</div>"
      ],
      "text/plain": [
       "       PRIMARY_KEY       STATE  YEAR  ENROLL  TOTAL_REVENUE  FEDERAL_REVENUE  \\\n",
       "0     1992_ALABAMA     ALABAMA  1992     NaN      2678885.0         304177.0   \n",
       "1      1992_ALASKA      ALASKA  1992     NaN      1049591.0         106780.0   \n",
       "2     1992_ARIZONA     ARIZONA  1992     NaN      3258079.0         297888.0   \n",
       "3    1992_ARKANSAS    ARKANSAS  1992     NaN      1711959.0         178571.0   \n",
       "4  1992_CALIFORNIA  CALIFORNIA  1992     NaN     26260025.0        2072470.0   \n",
       "\n",
       "   STATE_REVENUE  LOCAL_REVENUE  TOTAL_EXPENDITURE  INSTRUCTION_EXPENDITURE  \\\n",
       "0      1659028.0       715680.0          2653798.0                1481703.0   \n",
       "1       720711.0       222100.0           972488.0                 498362.0   \n",
       "2      1369815.0      1590376.0          3401580.0                1435908.0   \n",
       "3       958785.0       574603.0          1743022.0                 964323.0   \n",
       "4     16546514.0      7641041.0         27138832.0               14358922.0   \n",
       "\n",
       "   ...  GRADES_4_G  GRADES_8_G  GRADES_12_G  GRADES_1_8_G  GRADES_9_12_G  \\\n",
       "0  ...     57948.0     58025.0      41167.0      471564.0       196386.0   \n",
       "1  ...      9748.0      8789.0       6714.0       79117.0        30847.0   \n",
       "2  ...     55433.0     49081.0      37410.0      437127.0       175210.0   \n",
       "3  ...     34632.0     36011.0      27651.0      281338.0       123113.0   \n",
       "4  ...    418418.0    363296.0     270675.0     3286034.0      1372011.0   \n",
       "\n",
       "   GRADES_ALL_G  AVG_MATH_4_SCORE  AVG_MATH_8_SCORE  AVG_READING_4_SCORE  \\\n",
       "0      676174.0        208.327876        252.187522           207.963517   \n",
       "1      112335.0               NaN               NaN                  NaN   \n",
       "2      614881.0        215.253932        265.366278           206.212716   \n",
       "3      405259.0        210.206028        256.312090           208.634458   \n",
       "4     4717112.0        208.398961        260.892247           196.764414   \n",
       "\n",
       "   AVG_READING_8_SCORE  \n",
       "0                  NaN  \n",
       "1           258.859712  \n",
       "2           262.169895  \n",
       "3           264.619665  \n",
       "4                  NaN  \n",
       "\n",
       "[5 rows x 25 columns]"
      ]
     },
     "execution_count": 4,
     "metadata": {},
     "output_type": "execute_result"
    }
   ],
   "source": [
    "df.head()"
   ]
  },
  {
   "cell_type": "code",
   "execution_count": 5,
   "metadata": {},
   "outputs": [],
   "source": [
    "columns = df.columns.to_list()\n",
    "#these don't need cleaning for missing values\n",
    "columns.remove('PRIMARY_KEY')\n",
    "columns.remove('STATE')\n",
    "columns.remove('YEAR')\n",
    "#not enough filled entries to make these worthwhile\n",
    "columns.remove('AVG_MATH_4_SCORE')\n",
    "columns.remove('AVG_MATH_8_SCORE')\n",
    "columns.remove('AVG_READING_4_SCORE')\n",
    "columns.remove('AVG_READING_8_SCORE')"
   ]
  },
  {
   "cell_type": "code",
   "execution_count": 6,
   "metadata": {},
   "outputs": [],
   "source": [
    "#let's interpolate some data!\n",
    "for column in columns:\n",
    "    df[column] = df[column].interpolate()"
   ]
  },
  {
   "cell_type": "markdown",
   "metadata": {},
   "source": [
    "__1. Consider the two variables: TOTAL_REVENUE and TOTAL_EXPENDITURE. Do these variables have outlier values?__"
   ]
  },
  {
   "cell_type": "code",
   "execution_count": 7,
   "metadata": {},
   "outputs": [],
   "source": [
    "total_revenue = df['TOTAL_REVENUE']\n",
    "\n",
    "total_expenditure = df['TOTAL_EXPENDITURE']"
   ]
  },
  {
   "cell_type": "markdown",
   "metadata": {},
   "source": [
    "First, let's try to visualize our data with boxplots and histograms:"
   ]
  },
  {
   "cell_type": "code",
   "execution_count": 8,
   "metadata": {},
   "outputs": [
    {
     "data": {
      "image/png": "[encoded data removed]",
      "text/plain": [
       "<Figure size 1440x360 with 2 Axes>"
      ]
     },
     "metadata": {
      "needs_background": "light"
     },
     "output_type": "display_data"
    }
   ],
   "source": [
    "plt.figure(figsize=(20, 5))\n",
    "\n",
    "plt.subplot(1, 2, 1)\n",
    "plt.boxplot(total_revenue)\n",
    "plt.title('Total Revenue')\n",
    "\n",
    "plt.subplot(1, 2, 2)\n",
    "plt.boxplot(total_expenditure)\n",
    "plt.title('Total Expenditure')\n",
    "\n",
    "plt.show()"
   ]
  },
  {
   "cell_type": "markdown",
   "metadata": {},
   "source": [
    "Yeah, there looks like there are some outliers! Let's look at histograms just to make sure."
   ]
  },
  {
   "cell_type": "code",
   "execution_count": 9,
   "metadata": {},
   "outputs": [
    {
     "data": {
      "image/png": "[encoded data removed]",
      "text/plain": [
       "<Figure size 1440x360 with 2 Axes>"
      ]
     },
     "metadata": {
      "needs_background": "light"
     },
     "output_type": "display_data"
    }
   ],
   "source": [
    "plt.figure(figsize=(20, 5))\n",
    "\n",
    "plt.subplot(1, 2, 1)\n",
    "plt.hist(total_revenue)\n",
    "plt.title('Total Revenue')\n",
    "\n",
    "plt.subplot(1, 2, 2)\n",
    "plt.hist(total_expenditure)\n",
    "plt.title('Total Expenditure')\n",
    "\n",
    "plt.show()"
   ]
  },
  {
   "cell_type": "markdown",
   "metadata": {},
   "source": [
    "Definitely looks like it visually. Let's try with some more scientific work!"
   ]
  },
  {
   "cell_type": "code",
   "execution_count": 10,
   "metadata": {},
   "outputs": [
    {
     "data": {
      "image/png": "[encoded data removed]",
      "text/plain": [
       "<Figure size 432x288 with 1 Axes>"
      ]
     },
     "metadata": {
      "needs_background": "light"
     },
     "output_type": "display_data"
    },
    {
     "data": {
      "image/png": "[encoded data removed]",
      "text/plain": [
       "<Figure size 432x288 with 1 Axes>"
      ]
     },
     "metadata": {
      "needs_background": "light"
     },
     "output_type": "display_data"
    }
   ],
   "source": [
    "sns.boxplot(x='TOTAL_REVENUE', data=df)\n",
    "plt.title('Total Revenue')\n",
    "plt.show()\n",
    "\n",
    "sns.boxplot(x='TOTAL_EXPENDITURE', data=df)\n",
    "plt.title('Total Expenditure')\n",
    "plt.show()"
   ]
  },
  {
   "cell_type": "code",
   "execution_count": 12,
   "metadata": {},
   "outputs": [
    {
     "data": {
      "image/png": "[encoded data removed]",
      "text/plain": [
       "<Figure size 432x288 with 1 Axes>"
      ]
     },
     "metadata": {
      "needs_background": "light"
     },
     "output_type": "display_data"
    },
    {
     "data": {
      "image/png": "[encoded data removed]",
      "text/plain": [
       "<Figure size 432x288 with 1 Axes>"
      ]
     },
     "metadata": {
      "needs_background": "light"
     },
     "output_type": "display_data"
    }
   ],
   "source": [
    "sns.distplot(total_revenue)\n",
    "plt.title('Total Revenue')\n",
    "plt.show()\n",
    "\n",
    "sns.distplot(total_expenditure)\n",
    "plt.title('Total Expenditure')\n",
    "plt.show()"
   ]
  },
  {
   "cell_type": "markdown",
   "metadata": {},
   "source": [
    "Definitely looks like it visually. Let's try with some more scientific work!"
   ]
  },
  {
   "cell_type": "markdown",
   "metadata": {},
   "source": [
    "#### Using z-scores"
   ]
  },
  {
   "cell_type": "code",
   "execution_count": 13,
   "metadata": {},
   "outputs": [
    {
     "name": "stdout",
     "output_type": "stream",
     "text": [
      "The score threshold is: 1\n",
      "The indices of the outliers:\n",
      "(array([   4,   56,  108,  137,  150,  161,  190,  213,  241,  264,  292,\n",
      "        316,  344,  355,  367,  396,  407,  420,  449,  460,  472,  481,\n",
      "        501,  512,  524,  552,  564,  576,  605,  616,  628,  656,  668,\n",
      "        680,  685,  708,  719,  731,  737,  758,  760,  766,  771,  784,\n",
      "        789,  793,  811,  813,  819,  824,  836,  842,  846,  863,  865,\n",
      "        871,  876,  891,  897,  901,  919,  921,  927,  932,  944,  950,\n",
      "        954,  971,  973,  976,  979,  984,  997, 1002, 1006, 1023, 1025,\n",
      "       1028, 1031, 1036, 1048, 1053, 1057, 1075, 1077, 1083, 1088, 1101,\n",
      "       1106, 1110, 1127, 1129, 1135, 1140, 1152, 1157, 1161, 1178, 1180,\n",
      "       1183, 1186, 1191, 1203, 1208, 1212, 1229, 1231, 1234, 1237, 1242,\n",
      "       1254, 1259, 1263, 1280, 1282, 1285, 1286, 1287, 1288, 1289, 1290,\n",
      "       1291, 1292, 1293, 1294, 1295, 1296, 1297, 1298, 1299, 1300, 1301,\n",
      "       1302, 1303, 1304, 1305, 1306, 1307, 1308, 1309, 1310, 1311, 1312,\n",
      "       1313, 1314, 1315, 1316, 1317, 1318, 1319, 1320, 1321, 1322, 1323,\n",
      "       1324, 1325, 1326, 1327, 1328, 1329, 1330, 1331, 1332, 1333, 1334,\n",
      "       1335, 1336, 1337, 1338, 1339, 1340, 1341, 1342, 1343, 1344, 1345,\n",
      "       1346, 1347, 1348, 1349, 1350, 1351, 1352, 1353, 1354, 1355, 1356,\n",
      "       1357, 1358, 1359, 1360, 1361, 1362, 1363, 1364, 1365, 1366, 1367,\n",
      "       1368, 1369, 1370, 1371, 1372, 1373, 1374, 1375, 1376, 1377, 1378,\n",
      "       1379, 1380, 1381, 1382, 1383, 1384, 1385, 1386, 1387, 1388, 1389,\n",
      "       1390, 1391, 1392, 1393, 1394, 1395, 1396, 1397, 1398, 1399, 1400,\n",
      "       1401, 1402, 1403, 1404, 1405, 1406, 1407, 1408, 1409, 1410, 1411,\n",
      "       1412, 1413, 1414, 1415, 1416, 1417, 1418, 1419, 1420, 1421, 1422,\n",
      "       1423, 1424, 1425, 1426, 1427, 1428, 1429, 1430, 1431, 1432, 1433,\n",
      "       1434, 1435, 1436, 1437, 1438, 1439, 1440, 1441, 1442, 1443, 1444,\n",
      "       1445, 1446, 1447, 1448, 1449, 1450, 1451, 1452, 1453, 1454, 1455,\n",
      "       1456, 1457, 1458, 1459, 1460, 1461, 1462, 1463, 1464, 1465, 1466,\n",
      "       1467, 1468, 1469, 1470, 1471, 1472, 1473, 1474, 1475, 1476, 1477,\n",
      "       1478, 1479, 1480, 1481, 1482, 1483, 1484, 1485, 1486, 1487, 1488,\n",
      "       1489, 1490, 1491], dtype=int32),)\n",
      "Number of outliers is: 322\n",
      "\n",
      "The score threshold is: 2\n",
      "The indices of the outliers:\n",
      "(array([ 264,  316,  367,  420,  472,  481,  524,  552,  576,  605,  616,\n",
      "        628,  656,  668,  680,  708,  719,  731,  760,  771,  784,  813,\n",
      "        824,  836,  865,  876,  891,  921,  932,  944,  973,  984,  997,\n",
      "       1025, 1036, 1048, 1077, 1088, 1101, 1129, 1140, 1152, 1180, 1191,\n",
      "       1203, 1231, 1242, 1254, 1282], dtype=int32),)\n",
      "Number of outliers is: 49\n",
      "\n",
      "The score threshold is: 3\n",
      "The indices of the outliers:\n",
      "(array([ 472,  481,  524,  576,  628,  680,  731,  784,  813,  836,  865,\n",
      "        891,  921,  932,  944,  973,  984,  997, 1025, 1036, 1048, 1077,\n",
      "       1088, 1101, 1129, 1140, 1152, 1180, 1191, 1203, 1231, 1242, 1254,\n",
      "       1282], dtype=int32),)\n",
      "Number of outliers is: 34\n",
      "\n",
      "The score threshold is: 4\n",
      "The indices of the outliers:\n",
      "(array([ 576,  628,  680,  731,  784,  836,  891,  944,  997, 1048, 1101,\n",
      "       1129, 1152, 1180, 1203, 1231, 1254, 1282], dtype=int32),)\n",
      "Number of outliers is: 18\n",
      "\n"
     ]
    }
   ],
   "source": [
    "from scipy.stats import zscore\n",
    "\n",
    "z_scores = zscore(total_revenue)\n",
    "z_scores\n",
    "\n",
    "for threshold in range(1,5):\n",
    "    print(\"The score threshold is: {}\".format(threshold))\n",
    "    print(\"The indices of the outliers:\")\n",
    "    print(np.where(z_scores > threshold))\n",
    "    print(\"Number of outliers is: {}\".format(len((np.where(z_scores > threshold)[0]))))\n",
    "    print(\"\")"
   ]
  },
  {
   "cell_type": "code",
   "execution_count": 14,
   "metadata": {},
   "outputs": [
    {
     "name": "stdout",
     "output_type": "stream",
     "text": [
      "The score threshold is: 1\n",
      "The indices of the outliers:\n",
      "(array([   4,   56,   85,  137,  150,  161,  190,  213,  241,  264,  292,\n",
      "        304,  316,  344,  355,  367,  396,  407,  420,  449,  460,  472,\n",
      "        481,  501,  512,  524,  552,  564,  576,  605,  616,  628,  656,\n",
      "        668,  680,  685,  708,  719,  731,  737,  758,  760,  766,  771,\n",
      "        784,  789,  793,  811,  813,  819,  824,  836,  842,  846,  863,\n",
      "        865,  871,  876,  891,  897,  901,  919,  921,  927,  932,  944,\n",
      "        950,  954,  971,  973,  979,  984,  997, 1002, 1006, 1023, 1025,\n",
      "       1031, 1036, 1048, 1053, 1057, 1075, 1077, 1083, 1088, 1101, 1106,\n",
      "       1110, 1127, 1129, 1135, 1140, 1152, 1157, 1161, 1178, 1180, 1186,\n",
      "       1191, 1203, 1208, 1212, 1229, 1231, 1237, 1242, 1254, 1259, 1263,\n",
      "       1280, 1282, 1285, 1286, 1287, 1288, 1289, 1290, 1291, 1292, 1293,\n",
      "       1294, 1295, 1296, 1297, 1298, 1299, 1300, 1301, 1302, 1303, 1304,\n",
      "       1305, 1306, 1307, 1308, 1309, 1310, 1311, 1312, 1313, 1314, 1315,\n",
      "       1316, 1317, 1318, 1319, 1320, 1321, 1322, 1323, 1324, 1325, 1326,\n",
      "       1327, 1328, 1329, 1330, 1331, 1332, 1333, 1334, 1335, 1336, 1337,\n",
      "       1338, 1339, 1340, 1341, 1342, 1343, 1344, 1345, 1346, 1347, 1348,\n",
      "       1349, 1350, 1351, 1352, 1353, 1354, 1355, 1356, 1357, 1358, 1359,\n",
      "       1360, 1361, 1362, 1363, 1364, 1365, 1366, 1367, 1368, 1369, 1370,\n",
      "       1371, 1372, 1373, 1374, 1375, 1376, 1377, 1378, 1379, 1380, 1381,\n",
      "       1382, 1383, 1384, 1385, 1386, 1387, 1388, 1389, 1390, 1391, 1392,\n",
      "       1393, 1394, 1395, 1396, 1397, 1398, 1399, 1400, 1401, 1402, 1403,\n",
      "       1404, 1405, 1406, 1407, 1408, 1409, 1410, 1411, 1412, 1413, 1414,\n",
      "       1415, 1416, 1417, 1418, 1419, 1420, 1421, 1422, 1423, 1424, 1425,\n",
      "       1426, 1427, 1428, 1429, 1430, 1431, 1432, 1433, 1434, 1435, 1436,\n",
      "       1437, 1438, 1439, 1440, 1441, 1442, 1443, 1444, 1445, 1446, 1447,\n",
      "       1448, 1449, 1450, 1451, 1452, 1453, 1454, 1455, 1456, 1457, 1458,\n",
      "       1459, 1460, 1461, 1462, 1463, 1464, 1465, 1466, 1467, 1468, 1469,\n",
      "       1470, 1471, 1472, 1473, 1474, 1475, 1476, 1477, 1478, 1479, 1480,\n",
      "       1481, 1482, 1483, 1484, 1485, 1486, 1487, 1488, 1489, 1490, 1491],\n",
      "      dtype=int32),)\n",
      "Number of outliers is: 319\n",
      "\n",
      "The score threshold is: 2\n",
      "The indices of the outliers:\n",
      "(array([ 316,  367,  420,  472,  481,  501,  524,  552,  564,  576,  605,\n",
      "        616,  628,  656,  668,  680,  708,  719,  731,  760,  771,  784,\n",
      "        813,  824,  836,  865,  876,  891,  921,  932,  944,  973,  984,\n",
      "        997, 1025, 1036, 1048, 1077, 1088, 1101, 1129, 1140, 1152, 1180,\n",
      "       1191, 1203, 1231, 1242, 1254, 1282], dtype=int32),)\n",
      "Number of outliers is: 50\n",
      "\n",
      "The score threshold is: 3\n",
      "The indices of the outliers:\n",
      "(array([ 472,  481,  524,  576,  628,  680,  731,  760,  784,  813,  836,\n",
      "        865,  876,  891,  921,  932,  944,  973,  984,  997, 1025, 1036,\n",
      "       1048, 1077, 1088, 1101, 1129, 1140, 1152, 1180, 1191, 1203, 1231,\n",
      "       1242, 1254, 1282], dtype=int32),)\n",
      "Number of outliers is: 36\n",
      "\n",
      "The score threshold is: 4\n",
      "The indices of the outliers:\n",
      "(array([ 576,  628,  680,  731,  784,  836,  891,  944,  973,  997, 1048,\n",
      "       1077, 1101, 1129, 1152, 1180, 1203, 1231, 1254, 1282], dtype=int32),)\n",
      "Number of outliers is: 20\n",
      "\n"
     ]
    }
   ],
   "source": [
    "z_scores = zscore(total_expenditure)\n",
    "z_scores\n",
    "\n",
    "for threshold in range(1,5):\n",
    "    print(\"The score threshold is: {}\".format(threshold))\n",
    "    print(\"The indices of the outliers:\")\n",
    "    print(np.where(z_scores > threshold))\n",
    "    print(\"Number of outliers is: {}\".format(len((np.where(z_scores > threshold)[0]))))\n",
    "    print(\"\")"
   ]
  },
  {
   "cell_type": "markdown",
   "metadata": {},
   "source": [
    "### Using tukey's method"
   ]
  },
  {
   "cell_type": "code",
   "execution_count": 15,
   "metadata": {},
   "outputs": [
    {
     "name": "stdout",
     "output_type": "stream",
     "text": [
      "TOTAL REVENUE:\n",
      "The score threshold is: 1.0\n",
      "The number of outliers is 50\n",
      "\n",
      "The score threshold is: 1.5\n",
      "The number of outliers is 40\n",
      "\n",
      "The score threshold is: 2.0\n",
      "The number of outliers is 33\n",
      "\n",
      "The score threshold is: 2.5\n",
      "The number of outliers is 21\n",
      "\n",
      "The score threshold is: 3.0\n",
      "The number of outliers is 12\n",
      "\n",
      "The score threshold is: 3.5\n",
      "The number of outliers is 6\n",
      "\n",
      "The score threshold is: 4.0\n",
      "The number of outliers is 1\n",
      "\n",
      "The score threshold is: 4.5\n",
      "The number of outliers is 1\n",
      "\n"
     ]
    }
   ],
   "source": [
    "q75, q25 = np.percentile(total_revenue, [75, 25])\n",
    "\n",
    "iqr = q75 - q25\n",
    "print('TOTAL REVENUE:')\n",
    "for threshold in np.arange(1,5,0.5):\n",
    "    min_val = q25 - (iqr*threshold)\n",
    "    max_val = q75 + (iqr*threshold)\n",
    "    outliers = 0\n",
    "    print(\"The score threshold is: {}\".format(threshold))\n",
    "    for i in range(len(total_revenue)):\n",
    "        if (total_revenue[i] < min_val or total_revenue[i] > max_val):\n",
    "            outliers += 1\n",
    "    print('The number of outliers is {}'.format(outliers))\n",
    "    print('')"
   ]
  },
  {
   "cell_type": "code",
   "execution_count": 16,
   "metadata": {},
   "outputs": [
    {
     "name": "stdout",
     "output_type": "stream",
     "text": [
      "TOTAL EXPENDITURE\n",
      "The score threshold is: 1.0\n",
      "The number of outliers is 52\n",
      "\n",
      "The score threshold is: 1.5\n",
      "The number of outliers is 42\n",
      "\n",
      "The score threshold is: 2.0\n",
      "The number of outliers is 35\n",
      "\n",
      "The score threshold is: 2.5\n",
      "The number of outliers is 23\n",
      "\n",
      "The score threshold is: 3.0\n",
      "The number of outliers is 14\n",
      "\n",
      "The score threshold is: 3.5\n",
      "The number of outliers is 6\n",
      "\n",
      "The score threshold is: 4.0\n",
      "The number of outliers is 1\n",
      "\n",
      "The score threshold is: 4.5\n",
      "The number of outliers is 0\n",
      "\n"
     ]
    }
   ],
   "source": [
    "q75, q25 = np.percentile(total_revenue, [75, 25])\n",
    "\n",
    "iqr = q75 - q25\n",
    "print('TOTAL EXPENDITURE')\n",
    "for threshold in np.arange(1,5,0.5):\n",
    "    min_val = q25 - (iqr*threshold)\n",
    "    max_val = q75 + (iqr*threshold)\n",
    "    outliers = 0\n",
    "    print(\"The score threshold is: {}\".format(threshold))\n",
    "    for i in range(len(total_expenditure)):\n",
    "        if (total_expenditure[i] < min_val or total_expenditure[i] > max_val):\n",
    "            outliers += 1\n",
    "    print('The number of outliers is {}'.format(outliers))\n",
    "    print('')"
   ]
  },
  {
   "cell_type": "markdown",
   "metadata": {},
   "source": [
    "Well, there are definitely outliers. What to do with them?"
   ]
  },
  {
   "cell_type": "markdown",
   "metadata": {},
   "source": [
    "__2. If you detect outliers in the TOTAL_REVENUE and TOTAL_EXPENDITURE variables, apply the techniques you learned in this checkpoint to eliminate them and validate that there's no outlier values after you handled them.__"
   ]
  },
  {
   "cell_type": "markdown",
   "metadata": {},
   "source": [
    "First, let's try capping the values with winsorizing"
   ]
  },
  {
   "cell_type": "code",
   "execution_count": 19,
   "metadata": {},
   "outputs": [],
   "source": [
    "from scipy.stats.mstats import winsorize\n",
    "\n",
    "winsorized_revenue = winsorize(total_revenue, limits=(0, 0.45))\n",
    "winsorized_expenditure = winsorize(total_expenditure, limits=(0, 0.45))"
   ]
  },
  {
   "cell_type": "code",
   "execution_count": 20,
   "metadata": {},
   "outputs": [
    {
     "data": {
      "image/png": "[encoded data removed]",
      "text/plain": [
       "<Figure size 1440x360 with 2 Axes>"
      ]
     },
     "metadata": {
      "needs_background": "light"
     },
     "output_type": "display_data"
    }
   ],
   "source": [
    "plt.figure(figsize=(20, 5))\n",
    "\n",
    "plt.subplot(1, 2, 1)\n",
    "plt.boxplot(winsorized_revenue)\n",
    "plt.title('Total Revenue')\n",
    "\n",
    "plt.subplot(1, 2, 2)\n",
    "plt.boxplot(winsorized_expenditure)\n",
    "plt.title('Total Expenditure')\n",
    "\n",
    "plt.show()"
   ]
  },
  {
   "cell_type": "markdown",
   "metadata": {},
   "source": [
    "Next, let's try tranforming the data!"
   ]
  },
  {
   "cell_type": "code",
   "execution_count": 21,
   "metadata": {},
   "outputs": [
    {
     "data": {
      "image/png": "[encoded data removed]",
      "text/plain": [
       "<Figure size 1440x360 with 2 Axes>"
      ]
     },
     "metadata": {
      "needs_background": "light"
     },
     "output_type": "display_data"
    }
   ],
   "source": [
    "plt.figure(figsize=(20, 5))\n",
    "\n",
    "plt.subplot(1, 2, 1)\n",
    "plt.hist(total_revenue)\n",
    "plt.title('Total Revenue')\n",
    "\n",
    "\n",
    "plt.subplot(1, 2, 2)\n",
    "plt.hist(np.log(total_revenue))\n",
    "plt.title('Total Revenue Log Transformed')\n",
    "\n",
    "plt.show()"
   ]
  },
  {
   "cell_type": "code",
   "execution_count": 22,
   "metadata": {},
   "outputs": [
    {
     "data": {
      "image/png": "[encoded data removed]",
      "text/plain": [
       "<Figure size 1440x360 with 2 Axes>"
      ]
     },
     "metadata": {
      "needs_background": "light"
     },
     "output_type": "display_data"
    }
   ],
   "source": [
    "plt.figure(figsize=(20, 5))\n",
    "\n",
    "plt.subplot(1, 2, 1)\n",
    "plt.hist(total_expenditure)\n",
    "plt.title('Total Expenditure')\n",
    "\n",
    "\n",
    "plt.subplot(1, 2, 2)\n",
    "plt.hist(np.log(total_revenue))\n",
    "plt.title('Total Expenditure Log Transformed')\n",
    "\n",
    "plt.show()"
   ]
  },
  {
   "cell_type": "markdown",
   "metadata": {},
   "source": [
    "It looks like both are better normalized after transformation!"
   ]
  },
  {
   "cell_type": "markdown",
   "metadata": {},
   "source": [
    "__3. Create another variable by subtracting the original TOTAL_EXPENDITURE from TOTAL_REVENUE (before you eliminated the outliers). You can think of it as a kind of budget deficit in education. Do you find any outlier values in this new variable? If so, eliminate them using the technique you think most suitable.__"
   ]
  },
  {
   "cell_type": "code",
   "execution_count": 23,
   "metadata": {},
   "outputs": [
    {
     "data": {
      "text/html": [
       "<div>\n",
       "<style scoped>\n",
       "    .dataframe tbody tr th:only-of-type {\n",
       "        vertical-align: middle;\n",
       "    }\n",
       "\n",
       "    .dataframe tbody tr th {\n",
       "        vertical-align: top;\n",
       "    }\n",
       "\n",
       "    .dataframe thead th {\n",
       "        text-align: right;\n",
       "    }\n",
       "</style>\n",
       "<table border=\"1\" class=\"dataframe\">\n",
       "  <thead>\n",
       "    <tr style=\"text-align: right;\">\n",
       "      <th></th>\n",
       "      <th>PRIMARY_KEY</th>\n",
       "      <th>STATE</th>\n",
       "      <th>YEAR</th>\n",
       "      <th>ENROLL</th>\n",
       "      <th>TOTAL_REVENUE</th>\n",
       "      <th>FEDERAL_REVENUE</th>\n",
       "      <th>STATE_REVENUE</th>\n",
       "      <th>LOCAL_REVENUE</th>\n",
       "      <th>TOTAL_EXPENDITURE</th>\n",
       "      <th>INSTRUCTION_EXPENDITURE</th>\n",
       "      <th>...</th>\n",
       "      <th>GRADES_8_G</th>\n",
       "      <th>GRADES_12_G</th>\n",
       "      <th>GRADES_1_8_G</th>\n",
       "      <th>GRADES_9_12_G</th>\n",
       "      <th>GRADES_ALL_G</th>\n",
       "      <th>AVG_MATH_4_SCORE</th>\n",
       "      <th>AVG_MATH_8_SCORE</th>\n",
       "      <th>AVG_READING_4_SCORE</th>\n",
       "      <th>AVG_READING_8_SCORE</th>\n",
       "      <th>BUDGET_DEFICIT</th>\n",
       "    </tr>\n",
       "  </thead>\n",
       "  <tbody>\n",
       "    <tr>\n",
       "      <th>0</th>\n",
       "      <td>1992_ALABAMA</td>\n",
       "      <td>ALABAMA</td>\n",
       "      <td>1992</td>\n",
       "      <td>NaN</td>\n",
       "      <td>2678885.0</td>\n",
       "      <td>304177.0</td>\n",
       "      <td>1659028.0</td>\n",
       "      <td>715680.0</td>\n",
       "      <td>2653798.0</td>\n",
       "      <td>1481703.0</td>\n",
       "      <td>...</td>\n",
       "      <td>58025.0</td>\n",
       "      <td>41167.0</td>\n",
       "      <td>471564.0</td>\n",
       "      <td>196386.0</td>\n",
       "      <td>676174.0</td>\n",
       "      <td>208.327876</td>\n",
       "      <td>252.187522</td>\n",
       "      <td>207.963517</td>\n",
       "      <td>NaN</td>\n",
       "      <td>25087.0</td>\n",
       "    </tr>\n",
       "    <tr>\n",
       "      <th>1</th>\n",
       "      <td>1992_ALASKA</td>\n",
       "      <td>ALASKA</td>\n",
       "      <td>1992</td>\n",
       "      <td>NaN</td>\n",
       "      <td>1049591.0</td>\n",
       "      <td>106780.0</td>\n",
       "      <td>720711.0</td>\n",
       "      <td>222100.0</td>\n",
       "      <td>972488.0</td>\n",
       "      <td>498362.0</td>\n",
       "      <td>...</td>\n",
       "      <td>8789.0</td>\n",
       "      <td>6714.0</td>\n",
       "      <td>79117.0</td>\n",
       "      <td>30847.0</td>\n",
       "      <td>112335.0</td>\n",
       "      <td>NaN</td>\n",
       "      <td>NaN</td>\n",
       "      <td>NaN</td>\n",
       "      <td>258.859712</td>\n",
       "      <td>77103.0</td>\n",
       "    </tr>\n",
       "    <tr>\n",
       "      <th>2</th>\n",
       "      <td>1992_ARIZONA</td>\n",
       "      <td>ARIZONA</td>\n",
       "      <td>1992</td>\n",
       "      <td>NaN</td>\n",
       "      <td>3258079.0</td>\n",
       "      <td>297888.0</td>\n",
       "      <td>1369815.0</td>\n",
       "      <td>1590376.0</td>\n",
       "      <td>3401580.0</td>\n",
       "      <td>1435908.0</td>\n",
       "      <td>...</td>\n",
       "      <td>49081.0</td>\n",
       "      <td>37410.0</td>\n",
       "      <td>437127.0</td>\n",
       "      <td>175210.0</td>\n",
       "      <td>614881.0</td>\n",
       "      <td>215.253932</td>\n",
       "      <td>265.366278</td>\n",
       "      <td>206.212716</td>\n",
       "      <td>262.169895</td>\n",
       "      <td>-143501.0</td>\n",
       "    </tr>\n",
       "    <tr>\n",
       "      <th>3</th>\n",
       "      <td>1992_ARKANSAS</td>\n",
       "      <td>ARKANSAS</td>\n",
       "      <td>1992</td>\n",
       "      <td>NaN</td>\n",
       "      <td>1711959.0</td>\n",
       "      <td>178571.0</td>\n",
       "      <td>958785.0</td>\n",
       "      <td>574603.0</td>\n",
       "      <td>1743022.0</td>\n",
       "      <td>964323.0</td>\n",
       "      <td>...</td>\n",
       "      <td>36011.0</td>\n",
       "      <td>27651.0</td>\n",
       "      <td>281338.0</td>\n",
       "      <td>123113.0</td>\n",
       "      <td>405259.0</td>\n",
       "      <td>210.206028</td>\n",
       "      <td>256.312090</td>\n",
       "      <td>208.634458</td>\n",
       "      <td>264.619665</td>\n",
       "      <td>-31063.0</td>\n",
       "    </tr>\n",
       "    <tr>\n",
       "      <th>4</th>\n",
       "      <td>1992_CALIFORNIA</td>\n",
       "      <td>CALIFORNIA</td>\n",
       "      <td>1992</td>\n",
       "      <td>NaN</td>\n",
       "      <td>26260025.0</td>\n",
       "      <td>2072470.0</td>\n",
       "      <td>16546514.0</td>\n",
       "      <td>7641041.0</td>\n",
       "      <td>27138832.0</td>\n",
       "      <td>14358922.0</td>\n",
       "      <td>...</td>\n",
       "      <td>363296.0</td>\n",
       "      <td>270675.0</td>\n",
       "      <td>3286034.0</td>\n",
       "      <td>1372011.0</td>\n",
       "      <td>4717112.0</td>\n",
       "      <td>208.398961</td>\n",
       "      <td>260.892247</td>\n",
       "      <td>196.764414</td>\n",
       "      <td>NaN</td>\n",
       "      <td>-878807.0</td>\n",
       "    </tr>\n",
       "    <tr>\n",
       "      <th>5</th>\n",
       "      <td>1992_COLORADO</td>\n",
       "      <td>COLORADO</td>\n",
       "      <td>1992</td>\n",
       "      <td>NaN</td>\n",
       "      <td>3185173.0</td>\n",
       "      <td>163253.0</td>\n",
       "      <td>1307986.0</td>\n",
       "      <td>1713934.0</td>\n",
       "      <td>3264826.0</td>\n",
       "      <td>1642466.0</td>\n",
       "      <td>...</td>\n",
       "      <td>45025.0</td>\n",
       "      <td>34533.0</td>\n",
       "      <td>394904.0</td>\n",
       "      <td>160299.0</td>\n",
       "      <td>562613.0</td>\n",
       "      <td>221.023429</td>\n",
       "      <td>272.398433</td>\n",
       "      <td>213.480890</td>\n",
       "      <td>266.419687</td>\n",
       "      <td>-79653.0</td>\n",
       "    </tr>\n",
       "    <tr>\n",
       "      <th>6</th>\n",
       "      <td>1992_CONNECTICUT</td>\n",
       "      <td>CONNECTICUT</td>\n",
       "      <td>1992</td>\n",
       "      <td>NaN</td>\n",
       "      <td>3834302.0</td>\n",
       "      <td>143542.0</td>\n",
       "      <td>1342539.0</td>\n",
       "      <td>2348221.0</td>\n",
       "      <td>3721338.0</td>\n",
       "      <td>2148041.0</td>\n",
       "      <td>...</td>\n",
       "      <td>33691.0</td>\n",
       "      <td>28366.0</td>\n",
       "      <td>304284.0</td>\n",
       "      <td>126917.0</td>\n",
       "      <td>436932.0</td>\n",
       "      <td>226.798480</td>\n",
       "      <td>273.739345</td>\n",
       "      <td>222.417599</td>\n",
       "      <td>264.713904</td>\n",
       "      <td>112964.0</td>\n",
       "    </tr>\n",
       "    <tr>\n",
       "      <th>7</th>\n",
       "      <td>1992_DELAWARE</td>\n",
       "      <td>DELAWARE</td>\n",
       "      <td>1992</td>\n",
       "      <td>NaN</td>\n",
       "      <td>645233.0</td>\n",
       "      <td>45945.0</td>\n",
       "      <td>420942.0</td>\n",
       "      <td>178346.0</td>\n",
       "      <td>638784.0</td>\n",
       "      <td>372722.0</td>\n",
       "      <td>...</td>\n",
       "      <td>8012.0</td>\n",
       "      <td>6129.0</td>\n",
       "      <td>67495.0</td>\n",
       "      <td>28338.0</td>\n",
       "      <td>96296.0</td>\n",
       "      <td>217.899972</td>\n",
       "      <td>262.868585</td>\n",
       "      <td>206.389052</td>\n",
       "      <td>261.577921</td>\n",
       "      <td>6449.0</td>\n",
       "    </tr>\n",
       "    <tr>\n",
       "      <th>8</th>\n",
       "      <td>1992_DISTRICT_OF_COLUMBIA</td>\n",
       "      <td>DISTRICT_OF_COLUMBIA</td>\n",
       "      <td>1992</td>\n",
       "      <td>NaN</td>\n",
       "      <td>709480.0</td>\n",
       "      <td>64749.0</td>\n",
       "      <td>0.0</td>\n",
       "      <td>644731.0</td>\n",
       "      <td>742893.0</td>\n",
       "      <td>329160.0</td>\n",
       "      <td>...</td>\n",
       "      <td>5000.0</td>\n",
       "      <td>3433.0</td>\n",
       "      <td>47009.0</td>\n",
       "      <td>18173.0</td>\n",
       "      <td>70000.0</td>\n",
       "      <td>192.600553</td>\n",
       "      <td>234.924621</td>\n",
       "      <td>178.557612</td>\n",
       "      <td>265.976765</td>\n",
       "      <td>-33413.0</td>\n",
       "    </tr>\n",
       "    <tr>\n",
       "      <th>9</th>\n",
       "      <td>1992_FLORIDA</td>\n",
       "      <td>FLORIDA</td>\n",
       "      <td>1992</td>\n",
       "      <td>NaN</td>\n",
       "      <td>11506299.0</td>\n",
       "      <td>788420.0</td>\n",
       "      <td>5683949.0</td>\n",
       "      <td>5033930.0</td>\n",
       "      <td>11305642.0</td>\n",
       "      <td>5166374.0</td>\n",
       "      <td>...</td>\n",
       "      <td>142372.0</td>\n",
       "      <td>100835.0</td>\n",
       "      <td>1276685.0</td>\n",
       "      <td>511557.0</td>\n",
       "      <td>1819706.0</td>\n",
       "      <td>213.689751</td>\n",
       "      <td>259.908848</td>\n",
       "      <td>204.882606</td>\n",
       "      <td>262.118986</td>\n",
       "      <td>200657.0</td>\n",
       "    </tr>\n",
       "    <tr>\n",
       "      <th>10</th>\n",
       "      <td>1992_GEORGIA</td>\n",
       "      <td>GEORGIA</td>\n",
       "      <td>1992</td>\n",
       "      <td>NaN</td>\n",
       "      <td>5536901.0</td>\n",
       "      <td>398701.0</td>\n",
       "      <td>2798674.0</td>\n",
       "      <td>2339526.0</td>\n",
       "      <td>5535942.0</td>\n",
       "      <td>3043984.0</td>\n",
       "      <td>...</td>\n",
       "      <td>92374.0</td>\n",
       "      <td>63646.0</td>\n",
       "      <td>787599.0</td>\n",
       "      <td>315539.0</td>\n",
       "      <td>1106441.0</td>\n",
       "      <td>215.594906</td>\n",
       "      <td>259.359434</td>\n",
       "      <td>206.844175</td>\n",
       "      <td>NaN</td>\n",
       "      <td>959.0</td>\n",
       "    </tr>\n",
       "    <tr>\n",
       "      <th>11</th>\n",
       "      <td>1992_HAWAII</td>\n",
       "      <td>HAWAII</td>\n",
       "      <td>1992</td>\n",
       "      <td>NaN</td>\n",
       "      <td>996809.0</td>\n",
       "      <td>71273.0</td>\n",
       "      <td>903443.0</td>\n",
       "      <td>22093.0</td>\n",
       "      <td>1040121.0</td>\n",
       "      <td>536115.0</td>\n",
       "      <td>...</td>\n",
       "      <td>11750.0</td>\n",
       "      <td>9051.0</td>\n",
       "      <td>107242.0</td>\n",
       "      <td>43882.0</td>\n",
       "      <td>151649.0</td>\n",
       "      <td>214.056666</td>\n",
       "      <td>257.410887</td>\n",
       "      <td>200.880272</td>\n",
       "      <td>NaN</td>\n",
       "      <td>-43312.0</td>\n",
       "    </tr>\n",
       "    <tr>\n",
       "      <th>12</th>\n",
       "      <td>1992_IDAHO</td>\n",
       "      <td>IDAHO</td>\n",
       "      <td>1992</td>\n",
       "      <td>NaN</td>\n",
       "      <td>859329.0</td>\n",
       "      <td>69138.0</td>\n",
       "      <td>531912.0</td>\n",
       "      <td>258279.0</td>\n",
       "      <td>886161.0</td>\n",
       "      <td>473505.0</td>\n",
       "      <td>...</td>\n",
       "      <td>18880.0</td>\n",
       "      <td>14593.0</td>\n",
       "      <td>146573.0</td>\n",
       "      <td>66541.0</td>\n",
       "      <td>214345.0</td>\n",
       "      <td>221.562534</td>\n",
       "      <td>275.090294</td>\n",
       "      <td>NaN</td>\n",
       "      <td>NaN</td>\n",
       "      <td>-26832.0</td>\n",
       "    </tr>\n",
       "    <tr>\n",
       "      <th>13</th>\n",
       "      <td>1992_ILLINOIS</td>\n",
       "      <td>ILLINOIS</td>\n",
       "      <td>1992</td>\n",
       "      <td>NaN</td>\n",
       "      <td>9748650.0</td>\n",
       "      <td>597077.0</td>\n",
       "      <td>3073178.0</td>\n",
       "      <td>6078395.0</td>\n",
       "      <td>9850560.0</td>\n",
       "      <td>5010400.0</td>\n",
       "      <td>...</td>\n",
       "      <td>134317.0</td>\n",
       "      <td>106475.0</td>\n",
       "      <td>1111167.0</td>\n",
       "      <td>495562.0</td>\n",
       "      <td>1646411.0</td>\n",
       "      <td>NaN</td>\n",
       "      <td>NaN</td>\n",
       "      <td>NaN</td>\n",
       "      <td>NaN</td>\n",
       "      <td>-101910.0</td>\n",
       "    </tr>\n",
       "    <tr>\n",
       "      <th>14</th>\n",
       "      <td>1992_INDIANA</td>\n",
       "      <td>INDIANA</td>\n",
       "      <td>1992</td>\n",
       "      <td>NaN</td>\n",
       "      <td>5060274.0</td>\n",
       "      <td>257044.0</td>\n",
       "      <td>2578149.0</td>\n",
       "      <td>2225081.0</td>\n",
       "      <td>5182754.0</td>\n",
       "      <td>2598925.0</td>\n",
       "      <td>...</td>\n",
       "      <td>75477.0</td>\n",
       "      <td>62234.0</td>\n",
       "      <td>601890.0</td>\n",
       "      <td>278161.0</td>\n",
       "      <td>883276.0</td>\n",
       "      <td>221.037742</td>\n",
       "      <td>270.098944</td>\n",
       "      <td>219.763258</td>\n",
       "      <td>NaN</td>\n",
       "      <td>-122480.0</td>\n",
       "    </tr>\n",
       "  </tbody>\n",
       "</table>\n",
       "<p>15 rows × 26 columns</p>\n",
       "</div>"
      ],
      "text/plain": [
       "                  PRIMARY_KEY                 STATE  YEAR  ENROLL  \\\n",
       "0                1992_ALABAMA               ALABAMA  1992     NaN   \n",
       "1                 1992_ALASKA                ALASKA  1992     NaN   \n",
       "2                1992_ARIZONA               ARIZONA  1992     NaN   \n",
       "3               1992_ARKANSAS              ARKANSAS  1992     NaN   \n",
       "4             1992_CALIFORNIA            CALIFORNIA  1992     NaN   \n",
       "5               1992_COLORADO              COLORADO  1992     NaN   \n",
       "6            1992_CONNECTICUT           CONNECTICUT  1992     NaN   \n",
       "7               1992_DELAWARE              DELAWARE  1992     NaN   \n",
       "8   1992_DISTRICT_OF_COLUMBIA  DISTRICT_OF_COLUMBIA  1992     NaN   \n",
       "9                1992_FLORIDA               FLORIDA  1992     NaN   \n",
       "10               1992_GEORGIA               GEORGIA  1992     NaN   \n",
       "11                1992_HAWAII                HAWAII  1992     NaN   \n",
       "12                 1992_IDAHO                 IDAHO  1992     NaN   \n",
       "13              1992_ILLINOIS              ILLINOIS  1992     NaN   \n",
       "14               1992_INDIANA               INDIANA  1992     NaN   \n",
       "\n",
       "    TOTAL_REVENUE  FEDERAL_REVENUE  STATE_REVENUE  LOCAL_REVENUE  \\\n",
       "0       2678885.0         304177.0      1659028.0       715680.0   \n",
       "1       1049591.0         106780.0       720711.0       222100.0   \n",
       "2       3258079.0         297888.0      1369815.0      1590376.0   \n",
       "3       1711959.0         178571.0       958785.0       574603.0   \n",
       "4      26260025.0        2072470.0     16546514.0      7641041.0   \n",
       "5       3185173.0         163253.0      1307986.0      1713934.0   \n",
       "6       3834302.0         143542.0      1342539.0      2348221.0   \n",
       "7        645233.0          45945.0       420942.0       178346.0   \n",
       "8        709480.0          64749.0            0.0       644731.0   \n",
       "9      11506299.0         788420.0      5683949.0      5033930.0   \n",
       "10      5536901.0         398701.0      2798674.0      2339526.0   \n",
       "11       996809.0          71273.0       903443.0        22093.0   \n",
       "12       859329.0          69138.0       531912.0       258279.0   \n",
       "13      9748650.0         597077.0      3073178.0      6078395.0   \n",
       "14      5060274.0         257044.0      2578149.0      2225081.0   \n",
       "\n",
       "    TOTAL_EXPENDITURE  INSTRUCTION_EXPENDITURE  ...  GRADES_8_G  GRADES_12_G  \\\n",
       "0           2653798.0                1481703.0  ...     58025.0      41167.0   \n",
       "1            972488.0                 498362.0  ...      8789.0       6714.0   \n",
       "2           3401580.0                1435908.0  ...     49081.0      37410.0   \n",
       "3           1743022.0                 964323.0  ...     36011.0      27651.0   \n",
       "4          27138832.0               14358922.0  ...    363296.0     270675.0   \n",
       "5           3264826.0                1642466.0  ...     45025.0      34533.0   \n",
       "6           3721338.0                2148041.0  ...     33691.0      28366.0   \n",
       "7            638784.0                 372722.0  ...      8012.0       6129.0   \n",
       "8            742893.0                 329160.0  ...      5000.0       3433.0   \n",
       "9          11305642.0                5166374.0  ...    142372.0     100835.0   \n",
       "10          5535942.0                3043984.0  ...     92374.0      63646.0   \n",
       "11          1040121.0                 536115.0  ...     11750.0       9051.0   \n",
       "12           886161.0                 473505.0  ...     18880.0      14593.0   \n",
       "13          9850560.0                5010400.0  ...    134317.0     106475.0   \n",
       "14          5182754.0                2598925.0  ...     75477.0      62234.0   \n",
       "\n",
       "    GRADES_1_8_G  GRADES_9_12_G  GRADES_ALL_G  AVG_MATH_4_SCORE  \\\n",
       "0       471564.0       196386.0      676174.0        208.327876   \n",
       "1        79117.0        30847.0      112335.0               NaN   \n",
       "2       437127.0       175210.0      614881.0        215.253932   \n",
       "3       281338.0       123113.0      405259.0        210.206028   \n",
       "4      3286034.0      1372011.0     4717112.0        208.398961   \n",
       "5       394904.0       160299.0      562613.0        221.023429   \n",
       "6       304284.0       126917.0      436932.0        226.798480   \n",
       "7        67495.0        28338.0       96296.0        217.899972   \n",
       "8        47009.0        18173.0       70000.0        192.600553   \n",
       "9      1276685.0       511557.0     1819706.0        213.689751   \n",
       "10      787599.0       315539.0     1106441.0        215.594906   \n",
       "11      107242.0        43882.0      151649.0        214.056666   \n",
       "12      146573.0        66541.0      214345.0        221.562534   \n",
       "13     1111167.0       495562.0     1646411.0               NaN   \n",
       "14      601890.0       278161.0      883276.0        221.037742   \n",
       "\n",
       "    AVG_MATH_8_SCORE  AVG_READING_4_SCORE  AVG_READING_8_SCORE  BUDGET_DEFICIT  \n",
       "0         252.187522           207.963517                  NaN         25087.0  \n",
       "1                NaN                  NaN           258.859712         77103.0  \n",
       "2         265.366278           206.212716           262.169895       -143501.0  \n",
       "3         256.312090           208.634458           264.619665        -31063.0  \n",
       "4         260.892247           196.764414                  NaN       -878807.0  \n",
       "5         272.398433           213.480890           266.419687        -79653.0  \n",
       "6         273.739345           222.417599           264.713904        112964.0  \n",
       "7         262.868585           206.389052           261.577921          6449.0  \n",
       "8         234.924621           178.557612           265.976765        -33413.0  \n",
       "9         259.908848           204.882606           262.118986        200657.0  \n",
       "10        259.359434           206.844175                  NaN           959.0  \n",
       "11        257.410887           200.880272                  NaN        -43312.0  \n",
       "12        275.090294                  NaN                  NaN        -26832.0  \n",
       "13               NaN                  NaN                  NaN       -101910.0  \n",
       "14        270.098944           219.763258                  NaN       -122480.0  \n",
       "\n",
       "[15 rows x 26 columns]"
      ]
     },
     "execution_count": 23,
     "metadata": {},
     "output_type": "execute_result"
    }
   ],
   "source": [
    "df['BUDGET_DEFICIT'] = df['TOTAL_REVENUE'] - df['TOTAL_EXPENDITURE']\n",
    "\n",
    "budget_deficit = df['BUDGET_DEFICIT']\n",
    "\n",
    "df.head(15)"
   ]
  },
  {
   "cell_type": "code",
   "execution_count": 24,
   "metadata": {},
   "outputs": [
    {
     "data": {
      "image/png": "[encoded data removed]",
      "text/plain": [
       "<Figure size 1440x360 with 2 Axes>"
      ]
     },
     "metadata": {
      "needs_background": "light"
     },
     "output_type": "display_data"
    }
   ],
   "source": [
    "plt.figure(figsize=(20, 5))\n",
    "\n",
    "plt.subplot(1, 2, 1)\n",
    "plt.boxplot(budget_deficit)\n",
    "plt.title('Budget Deficit')\n",
    "\n",
    "plt.subplot(1, 2, 2)\n",
    "plt.hist(budget_deficit)\n",
    "plt.title('Budget Deficit')\n",
    "\n",
    "plt.show()"
   ]
  },
  {
   "cell_type": "code",
   "execution_count": 25,
   "metadata": {},
   "outputs": [
    {
     "name": "stdout",
     "output_type": "stream",
     "text": [
      "The score threshold is: 1\n",
      "The indices of the outliers:\n",
      "(array([  96,  118,  178,  264,  274,  316,  347,  367,  373,  399,  420,\n",
      "        472,  690,  739,  746,  749,  791,  802,  816,  868,  902,  922,\n",
      "        955,  974,  976,  997, 1003, 1006, 1007, 1015, 1026, 1057, 1058,\n",
      "       1065, 1067, 1075, 1099, 1103, 1110, 1111, 1117, 1119, 1154, 1162,\n",
      "       1170, 1178, 1183, 1205, 1213, 1219, 1221, 1234, 1254, 1256, 1264,\n",
      "       1272], dtype=int32),)\n",
      "Number of outliers is: 56\n",
      "\n"
     ]
    }
   ],
   "source": [
    "z_scores = zscore(budget_deficit)\n",
    "\n",
    "threshold = 1\n",
    "print(\"The score threshold is: {}\".format(threshold))\n",
    "print(\"The indices of the outliers:\")\n",
    "print(np.where(z_scores > threshold))\n",
    "print(\"Number of outliers is: {}\".format(len((np.where(z_scores > threshold)[0]))))\n",
    "print(\"\")"
   ]
  },
  {
   "cell_type": "code",
   "execution_count": 28,
   "metadata": {},
   "outputs": [
    {
     "name": "stdout",
     "output_type": "stream",
     "text": [
      "The score threshold is: 1\n",
      "The number of outliers is 198\n",
      "The percent of outliers is 13.270777479892763%\n"
     ]
    }
   ],
   "source": [
    "q75, q25 = np.percentile(budget_deficit, [75, 25])\n",
    "\n",
    "iqr = q75 - q25\n",
    "\n",
    "\n",
    "min_val = q25 - (iqr*threshold)\n",
    "max_val = q75 + (iqr*threshold)\n",
    "outliers = 0\n",
    "print(\"The score threshold is: {}\".format(threshold))\n",
    "for i in range(len(budget_deficit)):\n",
    "    if (budget_deficit[i] < min_val or budget_deficit[i] > max_val):\n",
    "        outliers += 1\n",
    "print('The number of outliers is {}'.format(outliers))\n",
    "print('The percent of outliers is {}%'.format(outliers / len(budget_deficit) * 100))"
   ]
  },
  {
   "cell_type": "code",
   "execution_count": 29,
   "metadata": {},
   "outputs": [
    {
     "data": {
      "image/png": "[encoded data removed]",
      "text/plain": [
       "<Figure size 432x288 with 1 Axes>"
      ]
     },
     "metadata": {
      "needs_background": "light"
     },
     "output_type": "display_data"
    }
   ],
   "source": [
    "deficit_transformed = np.log(budget_deficit)\n",
    "\n",
    "plt.hist(deficit_transformed)\n",
    "plt.title('Budget Deficit - Log Transformation')\n",
    "plt.show()"
   ]
  },
  {
   "cell_type": "code",
   "execution_count": 50,
   "metadata": {},
   "outputs": [],
   "source": [
    "winsorized_budget = winsorize(budget_deficit, limits=(0.20, 0.70))"
   ]
  },
  {
   "cell_type": "code",
   "execution_count": 51,
   "metadata": {},
   "outputs": [
    {
     "data": {
      "image/png": "[encoded data removed]",
      "text/plain": [
       "<Figure size 432x288 with 1 Axes>"
      ]
     },
     "metadata": {
      "needs_background": "light"
     },
     "output_type": "display_data"
    }
   ],
   "source": [
    "plt.boxplot(winsorized_budget)\n",
    "plt.show()"
   ]
  },
  {
   "cell_type": "code",
   "execution_count": 52,
   "metadata": {},
   "outputs": [
    {
     "data": {
      "image/png": "[encoded data removed]",
      "text/plain": [
       "<Figure size 432x288 with 1 Axes>"
      ]
     },
     "metadata": {
      "needs_background": "light"
     },
     "output_type": "display_data"
    }
   ],
   "source": [
    "plt.hist(winsorized_budget)\n",
    "plt.show()"
   ]
  },
  {
   "cell_type": "markdown",
   "metadata": {},
   "source": [
    "It seems that our best bet for dealing with outliers it to transform the budget deficit."
   ]
  },
  {
   "cell_type": "markdown",
   "metadata": {},
   "source": [
    "__4. Now create another variable by subtracting the TOTAL_EXPENDITURE from TOTAL_REVENUE. This time, use the outlier eliminated versions of TOTAL_EXPENDITURE from TOTAL_REVENUE. In this newly created variable, can you find any outliers? If so, eliminate them.__"
   ]
  },
  {
   "cell_type": "code",
   "execution_count": 73,
   "metadata": {},
   "outputs": [],
   "source": [
    "df['WINSORIZED_REVENUE'] = winsorized_revenue\n",
    "df['WINSORIZED_EXPENDITURE'] = winsorized_expenditure\n",
    "df['WINSORIZED_BUDGET_DEFICT'] = df['WINSORIZED_REVENUE'] - df['WINSORIZED_EXPENDITURE']"
   ]
  },
  {
   "cell_type": "code",
   "execution_count": 74,
   "metadata": {},
   "outputs": [],
   "source": [
    "winsorized_budget_deficit = df['WINSORIZED_BUDGET_DEFICT']"
   ]
  },
  {
   "cell_type": "code",
   "execution_count": 89,
   "metadata": {},
   "outputs": [
    {
     "data": {
      "image/png": "[encoded data removed]",
      "text/plain": [
       "<Figure size 1440x360 with 2 Axes>"
      ]
     },
     "metadata": {
      "needs_background": "light"
     },
     "output_type": "display_data"
    }
   ],
   "source": [
    "plt.figure(figsize=(20, 5))\n",
    "\n",
    "plt.subplot(1, 2, 1)\n",
    "plt.hist(winsorized_budget_deficit)\n",
    "plt.title('Winsorized Budget Deficit')\n",
    "\n",
    "plt.subplot(1, 2, 2)\n",
    "plt.boxplot(winsorized_budget_deficit)\n",
    "plt.title('Winsorized Budget Deficit')\n",
    "\n",
    "plt.show()"
   ]
  },
  {
   "cell_type": "code",
   "execution_count": 90,
   "metadata": {},
   "outputs": [],
   "source": [
    "remove_outliers = np.log(winsorized_budget_deficit)"
   ]
  },
  {
   "cell_type": "code",
   "execution_count": 91,
   "metadata": {},
   "outputs": [
    {
     "data": {
      "image/png": "[encoded data removed]",
      "text/plain": [
       "<Figure size 1440x360 with 2 Axes>"
      ]
     },
     "metadata": {
      "needs_background": "light"
     },
     "output_type": "display_data"
    }
   ],
   "source": [
    "plt.figure(figsize=(20, 5))\n",
    "\n",
    "plt.subplot(1, 2, 1)\n",
    "plt.hist(remove_outliers)\n",
    "plt.title('They gone?')\n",
    "\n",
    "plt.subplot(1, 2, 2)\n",
    "plt.boxplot(remove_outliers)\n",
    "plt.title('They gone?')\n",
    "\n",
    "plt.show()"
   ]
  },
  {
   "cell_type": "markdown",
   "metadata": {},
   "source": [
    "__5. Compare some basic descriptive statistics of the budget variables you end up with in the 3rd and the 4th questions. Do you see any differences?__"
   ]
  },
  {
   "cell_type": "code",
   "execution_count": 95,
   "metadata": {},
   "outputs": [
    {
     "data": {
      "text/plain": [
       "count    740.000000\n",
       "mean      11.694869\n",
       "std        1.582900\n",
       "min        4.890349\n",
       "25%       10.608408\n",
       "50%       12.157410\n",
       "75%       12.933653\n",
       "max       15.175751\n",
       "Name: BUDGET_DEFICIT, dtype: float64"
      ]
     },
     "execution_count": 95,
     "metadata": {},
     "output_type": "execute_result"
    }
   ],
   "source": [
    "deficit_transformed.describe()"
   ]
  },
  {
   "cell_type": "code",
   "execution_count": 96,
   "metadata": {},
   "outputs": [
    {
     "data": {
      "text/plain": [
       "count    347.000000\n",
       "mean      10.572317\n",
       "std        1.416129\n",
       "min        4.890349\n",
       "25%        9.791883\n",
       "50%       10.616143\n",
       "75%       11.592836\n",
       "max       13.574698\n",
       "Name: WINSORIZED_BUDGET_DEFICT, dtype: float64"
      ]
     },
     "execution_count": 96,
     "metadata": {},
     "output_type": "execute_result"
    }
   ],
   "source": [
    "remove_outliers.describe()"
   ]
  },
  {
   "cell_type": "markdown",
   "metadata": {},
   "source": [
    "These seem relatively similar. It looks like removing the outliers at first created slightly high values. It could stand to reason that you should create any new features then deal with outliers as this will save you from repeating the process."
   ]
  },
  {
   "cell_type": "markdown",
   "metadata": {},
   "source": [
    "__6. If our variable of interest is the budget deficit variable, which method do you think is the appropriate in dealing with the outliers in this variable: the method in the 3rd question or the one in the 4th question?__"
   ]
  },
  {
   "cell_type": "markdown",
   "metadata": {},
   "source": [
    "I would say that the latter method work as these give you similar results with one less step."
   ]
  }
 ],
 "metadata": {
  "kernelspec": {
   "display_name": "Python 3",
   "language": "python",
   "name": "python3"
  },
  "language_info": {
   "codemirror_mode": {
    "name": "ipython",
    "version": 3
   },
   "file_extension": ".py",
   "mimetype": "text/x-python",
   "name": "python",
   "nbconvert_exporter": "python",
   "pygments_lexer": "ipython3",
   "version": "3.7.3"
  }
 },
 "nbformat": 4,
 "nbformat_minor": 2
}
