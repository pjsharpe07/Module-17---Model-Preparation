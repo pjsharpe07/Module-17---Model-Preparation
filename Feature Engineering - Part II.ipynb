{
 "cells": [
  {
   "cell_type": "code",
   "execution_count": 67,
   "metadata": {},
   "outputs": [],
   "source": [
    "import pandas as pd\n",
    "import numpy as np\n",
    "from sqlalchemy import create_engine\n",
    "import warnings\n",
    "import seaborn as sns\n",
    "import matplotlib.pyplot as plt\n",
    "import scipy.stats as stats\n",
    "%matplotlib inline\n",
    "\n",
    "warnings.filterwarnings('ignore')"
   ]
  },
  {
   "cell_type": "code",
   "execution_count": 2,
   "metadata": {},
   "outputs": [],
   "source": [
    "postgres_user = 'dsbc_student'\n",
    "postgres_pw = '7*.8G9QH21'\n",
    "postgres_host = '142.93.121.174'\n",
    "postgres_port = '5432'\n",
    "postgres_db = 'useducation'"
   ]
  },
  {
   "cell_type": "code",
   "execution_count": 3,
   "metadata": {},
   "outputs": [],
   "source": [
    "engine = create_engine('postgresql://{}:{}@{}:{}/{}'.format(\n",
    "    postgres_user, postgres_pw, postgres_host, postgres_port, postgres_db))\n",
    "\n",
    "df = pd.read_sql_query('select * from useducation',con=engine)\n",
    "\n",
    "# no need for an open connection, \n",
    "# as we're only doing a single query\n",
    "engine.dispose()"
   ]
  },
  {
   "cell_type": "code",
   "execution_count": 4,
   "metadata": {},
   "outputs": [
    {
     "data": {
      "text/html": [
       "<div>\n",
       "<style scoped>\n",
       "    .dataframe tbody tr th:only-of-type {\n",
       "        vertical-align: middle;\n",
       "    }\n",
       "\n",
       "    .dataframe tbody tr th {\n",
       "        vertical-align: top;\n",
       "    }\n",
       "\n",
       "    .dataframe thead th {\n",
       "        text-align: right;\n",
       "    }\n",
       "</style>\n",
       "<table border=\"1\" class=\"dataframe\">\n",
       "  <thead>\n",
       "    <tr style=\"text-align: right;\">\n",
       "      <th></th>\n",
       "      <th>PRIMARY_KEY</th>\n",
       "      <th>STATE</th>\n",
       "      <th>YEAR</th>\n",
       "      <th>ENROLL</th>\n",
       "      <th>TOTAL_REVENUE</th>\n",
       "      <th>FEDERAL_REVENUE</th>\n",
       "      <th>STATE_REVENUE</th>\n",
       "      <th>LOCAL_REVENUE</th>\n",
       "      <th>TOTAL_EXPENDITURE</th>\n",
       "      <th>INSTRUCTION_EXPENDITURE</th>\n",
       "      <th>...</th>\n",
       "      <th>GRADES_4_G</th>\n",
       "      <th>GRADES_8_G</th>\n",
       "      <th>GRADES_12_G</th>\n",
       "      <th>GRADES_1_8_G</th>\n",
       "      <th>GRADES_9_12_G</th>\n",
       "      <th>GRADES_ALL_G</th>\n",
       "      <th>AVG_MATH_4_SCORE</th>\n",
       "      <th>AVG_MATH_8_SCORE</th>\n",
       "      <th>AVG_READING_4_SCORE</th>\n",
       "      <th>AVG_READING_8_SCORE</th>\n",
       "    </tr>\n",
       "  </thead>\n",
       "  <tbody>\n",
       "    <tr>\n",
       "      <th>0</th>\n",
       "      <td>1992_ALABAMA</td>\n",
       "      <td>ALABAMA</td>\n",
       "      <td>1992</td>\n",
       "      <td>NaN</td>\n",
       "      <td>2678885.0</td>\n",
       "      <td>304177.0</td>\n",
       "      <td>1659028.0</td>\n",
       "      <td>715680.0</td>\n",
       "      <td>2653798.0</td>\n",
       "      <td>1481703.0</td>\n",
       "      <td>...</td>\n",
       "      <td>57948.0</td>\n",
       "      <td>58025.0</td>\n",
       "      <td>41167.0</td>\n",
       "      <td>471564.0</td>\n",
       "      <td>196386.0</td>\n",
       "      <td>676174.0</td>\n",
       "      <td>208.327876</td>\n",
       "      <td>252.187522</td>\n",
       "      <td>207.963517</td>\n",
       "      <td>NaN</td>\n",
       "    </tr>\n",
       "    <tr>\n",
       "      <th>1</th>\n",
       "      <td>1992_ALASKA</td>\n",
       "      <td>ALASKA</td>\n",
       "      <td>1992</td>\n",
       "      <td>NaN</td>\n",
       "      <td>1049591.0</td>\n",
       "      <td>106780.0</td>\n",
       "      <td>720711.0</td>\n",
       "      <td>222100.0</td>\n",
       "      <td>972488.0</td>\n",
       "      <td>498362.0</td>\n",
       "      <td>...</td>\n",
       "      <td>9748.0</td>\n",
       "      <td>8789.0</td>\n",
       "      <td>6714.0</td>\n",
       "      <td>79117.0</td>\n",
       "      <td>30847.0</td>\n",
       "      <td>112335.0</td>\n",
       "      <td>NaN</td>\n",
       "      <td>NaN</td>\n",
       "      <td>NaN</td>\n",
       "      <td>258.859712</td>\n",
       "    </tr>\n",
       "    <tr>\n",
       "      <th>2</th>\n",
       "      <td>1992_ARIZONA</td>\n",
       "      <td>ARIZONA</td>\n",
       "      <td>1992</td>\n",
       "      <td>NaN</td>\n",
       "      <td>3258079.0</td>\n",
       "      <td>297888.0</td>\n",
       "      <td>1369815.0</td>\n",
       "      <td>1590376.0</td>\n",
       "      <td>3401580.0</td>\n",
       "      <td>1435908.0</td>\n",
       "      <td>...</td>\n",
       "      <td>55433.0</td>\n",
       "      <td>49081.0</td>\n",
       "      <td>37410.0</td>\n",
       "      <td>437127.0</td>\n",
       "      <td>175210.0</td>\n",
       "      <td>614881.0</td>\n",
       "      <td>215.253932</td>\n",
       "      <td>265.366278</td>\n",
       "      <td>206.212716</td>\n",
       "      <td>262.169895</td>\n",
       "    </tr>\n",
       "    <tr>\n",
       "      <th>3</th>\n",
       "      <td>1992_ARKANSAS</td>\n",
       "      <td>ARKANSAS</td>\n",
       "      <td>1992</td>\n",
       "      <td>NaN</td>\n",
       "      <td>1711959.0</td>\n",
       "      <td>178571.0</td>\n",
       "      <td>958785.0</td>\n",
       "      <td>574603.0</td>\n",
       "      <td>1743022.0</td>\n",
       "      <td>964323.0</td>\n",
       "      <td>...</td>\n",
       "      <td>34632.0</td>\n",
       "      <td>36011.0</td>\n",
       "      <td>27651.0</td>\n",
       "      <td>281338.0</td>\n",
       "      <td>123113.0</td>\n",
       "      <td>405259.0</td>\n",
       "      <td>210.206028</td>\n",
       "      <td>256.312090</td>\n",
       "      <td>208.634458</td>\n",
       "      <td>264.619665</td>\n",
       "    </tr>\n",
       "    <tr>\n",
       "      <th>4</th>\n",
       "      <td>1992_CALIFORNIA</td>\n",
       "      <td>CALIFORNIA</td>\n",
       "      <td>1992</td>\n",
       "      <td>NaN</td>\n",
       "      <td>26260025.0</td>\n",
       "      <td>2072470.0</td>\n",
       "      <td>16546514.0</td>\n",
       "      <td>7641041.0</td>\n",
       "      <td>27138832.0</td>\n",
       "      <td>14358922.0</td>\n",
       "      <td>...</td>\n",
       "      <td>418418.0</td>\n",
       "      <td>363296.0</td>\n",
       "      <td>270675.0</td>\n",
       "      <td>3286034.0</td>\n",
       "      <td>1372011.0</td>\n",
       "      <td>4717112.0</td>\n",
       "      <td>208.398961</td>\n",
       "      <td>260.892247</td>\n",
       "      <td>196.764414</td>\n",
       "      <td>NaN</td>\n",
       "    </tr>\n",
       "  </tbody>\n",
       "</table>\n",
       "<p>5 rows × 25 columns</p>\n",
       "</div>"
      ],
      "text/plain": [
       "       PRIMARY_KEY       STATE  YEAR  ENROLL  TOTAL_REVENUE  FEDERAL_REVENUE  \\\n",
       "0     1992_ALABAMA     ALABAMA  1992     NaN      2678885.0         304177.0   \n",
       "1      1992_ALASKA      ALASKA  1992     NaN      1049591.0         106780.0   \n",
       "2     1992_ARIZONA     ARIZONA  1992     NaN      3258079.0         297888.0   \n",
       "3    1992_ARKANSAS    ARKANSAS  1992     NaN      1711959.0         178571.0   \n",
       "4  1992_CALIFORNIA  CALIFORNIA  1992     NaN     26260025.0        2072470.0   \n",
       "\n",
       "   STATE_REVENUE  LOCAL_REVENUE  TOTAL_EXPENDITURE  INSTRUCTION_EXPENDITURE  \\\n",
       "0      1659028.0       715680.0          2653798.0                1481703.0   \n",
       "1       720711.0       222100.0           972488.0                 498362.0   \n",
       "2      1369815.0      1590376.0          3401580.0                1435908.0   \n",
       "3       958785.0       574603.0          1743022.0                 964323.0   \n",
       "4     16546514.0      7641041.0         27138832.0               14358922.0   \n",
       "\n",
       "   ...  GRADES_4_G  GRADES_8_G  GRADES_12_G  GRADES_1_8_G  GRADES_9_12_G  \\\n",
       "0  ...     57948.0     58025.0      41167.0      471564.0       196386.0   \n",
       "1  ...      9748.0      8789.0       6714.0       79117.0        30847.0   \n",
       "2  ...     55433.0     49081.0      37410.0      437127.0       175210.0   \n",
       "3  ...     34632.0     36011.0      27651.0      281338.0       123113.0   \n",
       "4  ...    418418.0    363296.0     270675.0     3286034.0      1372011.0   \n",
       "\n",
       "   GRADES_ALL_G  AVG_MATH_4_SCORE  AVG_MATH_8_SCORE  AVG_READING_4_SCORE  \\\n",
       "0      676174.0        208.327876        252.187522           207.963517   \n",
       "1      112335.0               NaN               NaN                  NaN   \n",
       "2      614881.0        215.253932        265.366278           206.212716   \n",
       "3      405259.0        210.206028        256.312090           208.634458   \n",
       "4     4717112.0        208.398961        260.892247           196.764414   \n",
       "\n",
       "   AVG_READING_8_SCORE  \n",
       "0                  NaN  \n",
       "1           258.859712  \n",
       "2           262.169895  \n",
       "3           264.619665  \n",
       "4                  NaN  \n",
       "\n",
       "[5 rows x 25 columns]"
      ]
     },
     "execution_count": 4,
     "metadata": {},
     "output_type": "execute_result"
    }
   ],
   "source": [
    "df.head()"
   ]
  },
  {
   "cell_type": "code",
   "execution_count": 5,
   "metadata": {},
   "outputs": [],
   "source": [
    "columns = df.columns.to_list()\n",
    "#these don't need cleaning for missing values\n",
    "columns.remove('PRIMARY_KEY')\n",
    "columns.remove('STATE')\n",
    "columns.remove('YEAR')"
   ]
  },
  {
   "cell_type": "code",
   "execution_count": 6,
   "metadata": {},
   "outputs": [],
   "source": [
    "#let's handle the missing values with interpolation\n",
    "for column in columns:\n",
    "    df[column] = df[column].interpolate()"
   ]
  },
  {
   "cell_type": "code",
   "execution_count": 7,
   "metadata": {},
   "outputs": [
    {
     "data": {
      "text/html": [
       "<div>\n",
       "<style scoped>\n",
       "    .dataframe tbody tr th:only-of-type {\n",
       "        vertical-align: middle;\n",
       "    }\n",
       "\n",
       "    .dataframe tbody tr th {\n",
       "        vertical-align: top;\n",
       "    }\n",
       "\n",
       "    .dataframe thead th {\n",
       "        text-align: right;\n",
       "    }\n",
       "</style>\n",
       "<table border=\"1\" class=\"dataframe\">\n",
       "  <thead>\n",
       "    <tr style=\"text-align: right;\">\n",
       "      <th></th>\n",
       "      <th>YEAR</th>\n",
       "      <th>ENROLL</th>\n",
       "      <th>TOTAL_REVENUE</th>\n",
       "      <th>FEDERAL_REVENUE</th>\n",
       "      <th>STATE_REVENUE</th>\n",
       "      <th>LOCAL_REVENUE</th>\n",
       "      <th>TOTAL_EXPENDITURE</th>\n",
       "      <th>INSTRUCTION_EXPENDITURE</th>\n",
       "      <th>SUPPORT_SERVICES_EXPENDITURE</th>\n",
       "      <th>OTHER_EXPENDITURE</th>\n",
       "      <th>...</th>\n",
       "      <th>GRADES_4_G</th>\n",
       "      <th>GRADES_8_G</th>\n",
       "      <th>GRADES_12_G</th>\n",
       "      <th>GRADES_1_8_G</th>\n",
       "      <th>GRADES_9_12_G</th>\n",
       "      <th>GRADES_ALL_G</th>\n",
       "      <th>AVG_MATH_4_SCORE</th>\n",
       "      <th>AVG_MATH_8_SCORE</th>\n",
       "      <th>AVG_READING_4_SCORE</th>\n",
       "      <th>AVG_READING_8_SCORE</th>\n",
       "    </tr>\n",
       "  </thead>\n",
       "  <tbody>\n",
       "    <tr>\n",
       "      <th>count</th>\n",
       "      <td>1492.000000</td>\n",
       "      <td>1.456000e+03</td>\n",
       "      <td>1.492000e+03</td>\n",
       "      <td>1.492000e+03</td>\n",
       "      <td>1.492000e+03</td>\n",
       "      <td>1.492000e+03</td>\n",
       "      <td>1.492000e+03</td>\n",
       "      <td>1.492000e+03</td>\n",
       "      <td>1.492000e+03</td>\n",
       "      <td>1.456000e+03</td>\n",
       "      <td>...</td>\n",
       "      <td>1492.000000</td>\n",
       "      <td>1492.000000</td>\n",
       "      <td>1492.000000</td>\n",
       "      <td>1.492000e+03</td>\n",
       "      <td>1.492000e+03</td>\n",
       "      <td>1.492000e+03</td>\n",
       "      <td>1492.000000</td>\n",
       "      <td>1492.000000</td>\n",
       "      <td>1492.000000</td>\n",
       "      <td>1491.000000</td>\n",
       "    </tr>\n",
       "    <tr>\n",
       "      <th>mean</th>\n",
       "      <td>2004.433646</td>\n",
       "      <td>1.005984e+06</td>\n",
       "      <td>1.111164e+07</td>\n",
       "      <td>8.922691e+05</td>\n",
       "      <td>4.913351e+06</td>\n",
       "      <td>5.306024e+06</td>\n",
       "      <td>1.114374e+07</td>\n",
       "      <td>5.792260e+06</td>\n",
       "      <td>3.324275e+06</td>\n",
       "      <td>5.004288e+05</td>\n",
       "      <td>...</td>\n",
       "      <td>59797.646113</td>\n",
       "      <td>59511.380027</td>\n",
       "      <td>50207.239276</td>\n",
       "      <td>4.810102e+05</td>\n",
       "      <td>2.286678e+05</td>\n",
       "      <td>7.478782e+05</td>\n",
       "      <td>232.723472</td>\n",
       "      <td>275.734024</td>\n",
       "      <td>218.971553</td>\n",
       "      <td>263.267799</td>\n",
       "    </tr>\n",
       "    <tr>\n",
       "      <th>std</th>\n",
       "      <td>7.393983</td>\n",
       "      <td>1.009158e+06</td>\n",
       "      <td>1.200155e+07</td>\n",
       "      <td>1.106788e+06</td>\n",
       "      <td>5.423675e+06</td>\n",
       "      <td>5.900909e+06</td>\n",
       "      <td>1.212433e+07</td>\n",
       "      <td>6.376549e+06</td>\n",
       "      <td>3.500830e+06</td>\n",
       "      <td>5.253843e+05</td>\n",
       "      <td>...</td>\n",
       "      <td>78406.899202</td>\n",
       "      <td>77123.573668</td>\n",
       "      <td>66309.867155</td>\n",
       "      <td>6.286622e+05</td>\n",
       "      <td>3.005815e+05</td>\n",
       "      <td>9.291585e+05</td>\n",
       "      <td>9.405215</td>\n",
       "      <td>8.754805</td>\n",
       "      <td>5.959927</td>\n",
       "      <td>4.978792</td>\n",
       "    </tr>\n",
       "    <tr>\n",
       "      <th>min</th>\n",
       "      <td>1992.000000</td>\n",
       "      <td>4.386600e+04</td>\n",
       "      <td>4.656500e+05</td>\n",
       "      <td>3.102000e+04</td>\n",
       "      <td>0.000000e+00</td>\n",
       "      <td>2.209300e+04</td>\n",
       "      <td>4.816650e+05</td>\n",
       "      <td>2.655490e+05</td>\n",
       "      <td>1.399630e+05</td>\n",
       "      <td>1.154100e+04</td>\n",
       "      <td>...</td>\n",
       "      <td>633.000000</td>\n",
       "      <td>437.000000</td>\n",
       "      <td>311.000000</td>\n",
       "      <td>4.878000e+03</td>\n",
       "      <td>1.808000e+03</td>\n",
       "      <td>7.254000e+03</td>\n",
       "      <td>187.134670</td>\n",
       "      <td>232.831510</td>\n",
       "      <td>178.557612</td>\n",
       "      <td>236.379102</td>\n",
       "    </tr>\n",
       "    <tr>\n",
       "      <th>25%</th>\n",
       "      <td>1998.000000</td>\n",
       "      <td>2.973995e+05</td>\n",
       "      <td>2.546261e+06</td>\n",
       "      <td>2.170200e+05</td>\n",
       "      <td>1.356434e+06</td>\n",
       "      <td>9.447962e+05</td>\n",
       "      <td>2.523968e+06</td>\n",
       "      <td>1.343611e+06</td>\n",
       "      <td>7.673688e+05</td>\n",
       "      <td>1.279618e+05</td>\n",
       "      <td>...</td>\n",
       "      <td>10117.250000</td>\n",
       "      <td>10252.000000</td>\n",
       "      <td>8951.000000</td>\n",
       "      <td>8.127325e+04</td>\n",
       "      <td>3.950675e+04</td>\n",
       "      <td>1.718665e+05</td>\n",
       "      <td>226.267129</td>\n",
       "      <td>270.096001</td>\n",
       "      <td>216.126818</td>\n",
       "      <td>260.490023</td>\n",
       "    </tr>\n",
       "    <tr>\n",
       "      <th>50%</th>\n",
       "      <td>2004.000000</td>\n",
       "      <td>7.540845e+05</td>\n",
       "      <td>6.351760e+06</td>\n",
       "      <td>5.165190e+05</td>\n",
       "      <td>3.119414e+06</td>\n",
       "      <td>2.650904e+06</td>\n",
       "      <td>6.499891e+06</td>\n",
       "      <td>3.318778e+06</td>\n",
       "      <td>1.910412e+06</td>\n",
       "      <td>3.415810e+05</td>\n",
       "      <td>...</td>\n",
       "      <td>38280.500000</td>\n",
       "      <td>38114.500000</td>\n",
       "      <td>33279.000000</td>\n",
       "      <td>3.097340e+05</td>\n",
       "      <td>1.472355e+05</td>\n",
       "      <td>4.591248e+05</td>\n",
       "      <td>234.226904</td>\n",
       "      <td>275.711254</td>\n",
       "      <td>219.771325</td>\n",
       "      <td>262.617766</td>\n",
       "    </tr>\n",
       "    <tr>\n",
       "      <th>75%</th>\n",
       "      <td>2011.000000</td>\n",
       "      <td>1.595024e+06</td>\n",
       "      <td>1.803650e+07</td>\n",
       "      <td>1.411794e+06</td>\n",
       "      <td>8.020633e+06</td>\n",
       "      <td>8.584803e+06</td>\n",
       "      <td>1.801704e+07</td>\n",
       "      <td>9.130766e+06</td>\n",
       "      <td>5.435244e+06</td>\n",
       "      <td>8.490842e+05</td>\n",
       "      <td>...</td>\n",
       "      <td>72310.250000</td>\n",
       "      <td>72598.250000</td>\n",
       "      <td>64920.500000</td>\n",
       "      <td>5.783400e+05</td>\n",
       "      <td>2.843505e+05</td>\n",
       "      <td>8.860948e+05</td>\n",
       "      <td>240.163315</td>\n",
       "      <td>282.702092</td>\n",
       "      <td>222.684611</td>\n",
       "      <td>266.849675</td>\n",
       "    </tr>\n",
       "    <tr>\n",
       "      <th>max</th>\n",
       "      <td>2017.000000</td>\n",
       "      <td>6.307022e+06</td>\n",
       "      <td>8.921726e+07</td>\n",
       "      <td>9.990221e+06</td>\n",
       "      <td>5.090457e+07</td>\n",
       "      <td>3.610526e+07</td>\n",
       "      <td>8.532013e+07</td>\n",
       "      <td>4.396452e+07</td>\n",
       "      <td>2.605802e+07</td>\n",
       "      <td>3.995951e+06</td>\n",
       "      <td>...</td>\n",
       "      <td>493415.000000</td>\n",
       "      <td>500143.000000</td>\n",
       "      <td>498403.000000</td>\n",
       "      <td>3.929869e+06</td>\n",
       "      <td>2.013687e+06</td>\n",
       "      <td>5.944746e+06</td>\n",
       "      <td>253.420961</td>\n",
       "      <td>300.568235</td>\n",
       "      <td>236.773867</td>\n",
       "      <td>280.499130</td>\n",
       "    </tr>\n",
       "  </tbody>\n",
       "</table>\n",
       "<p>8 rows × 23 columns</p>\n",
       "</div>"
      ],
      "text/plain": [
       "              YEAR        ENROLL  TOTAL_REVENUE  FEDERAL_REVENUE  \\\n",
       "count  1492.000000  1.456000e+03   1.492000e+03     1.492000e+03   \n",
       "mean   2004.433646  1.005984e+06   1.111164e+07     8.922691e+05   \n",
       "std       7.393983  1.009158e+06   1.200155e+07     1.106788e+06   \n",
       "min    1992.000000  4.386600e+04   4.656500e+05     3.102000e+04   \n",
       "25%    1998.000000  2.973995e+05   2.546261e+06     2.170200e+05   \n",
       "50%    2004.000000  7.540845e+05   6.351760e+06     5.165190e+05   \n",
       "75%    2011.000000  1.595024e+06   1.803650e+07     1.411794e+06   \n",
       "max    2017.000000  6.307022e+06   8.921726e+07     9.990221e+06   \n",
       "\n",
       "       STATE_REVENUE  LOCAL_REVENUE  TOTAL_EXPENDITURE  \\\n",
       "count   1.492000e+03   1.492000e+03       1.492000e+03   \n",
       "mean    4.913351e+06   5.306024e+06       1.114374e+07   \n",
       "std     5.423675e+06   5.900909e+06       1.212433e+07   \n",
       "min     0.000000e+00   2.209300e+04       4.816650e+05   \n",
       "25%     1.356434e+06   9.447962e+05       2.523968e+06   \n",
       "50%     3.119414e+06   2.650904e+06       6.499891e+06   \n",
       "75%     8.020633e+06   8.584803e+06       1.801704e+07   \n",
       "max     5.090457e+07   3.610526e+07       8.532013e+07   \n",
       "\n",
       "       INSTRUCTION_EXPENDITURE  SUPPORT_SERVICES_EXPENDITURE  \\\n",
       "count             1.492000e+03                  1.492000e+03   \n",
       "mean              5.792260e+06                  3.324275e+06   \n",
       "std               6.376549e+06                  3.500830e+06   \n",
       "min               2.655490e+05                  1.399630e+05   \n",
       "25%               1.343611e+06                  7.673688e+05   \n",
       "50%               3.318778e+06                  1.910412e+06   \n",
       "75%               9.130766e+06                  5.435244e+06   \n",
       "max               4.396452e+07                  2.605802e+07   \n",
       "\n",
       "       OTHER_EXPENDITURE  ...     GRADES_4_G     GRADES_8_G    GRADES_12_G  \\\n",
       "count       1.456000e+03  ...    1492.000000    1492.000000    1492.000000   \n",
       "mean        5.004288e+05  ...   59797.646113   59511.380027   50207.239276   \n",
       "std         5.253843e+05  ...   78406.899202   77123.573668   66309.867155   \n",
       "min         1.154100e+04  ...     633.000000     437.000000     311.000000   \n",
       "25%         1.279618e+05  ...   10117.250000   10252.000000    8951.000000   \n",
       "50%         3.415810e+05  ...   38280.500000   38114.500000   33279.000000   \n",
       "75%         8.490842e+05  ...   72310.250000   72598.250000   64920.500000   \n",
       "max         3.995951e+06  ...  493415.000000  500143.000000  498403.000000   \n",
       "\n",
       "       GRADES_1_8_G  GRADES_9_12_G  GRADES_ALL_G  AVG_MATH_4_SCORE  \\\n",
       "count  1.492000e+03   1.492000e+03  1.492000e+03       1492.000000   \n",
       "mean   4.810102e+05   2.286678e+05  7.478782e+05        232.723472   \n",
       "std    6.286622e+05   3.005815e+05  9.291585e+05          9.405215   \n",
       "min    4.878000e+03   1.808000e+03  7.254000e+03        187.134670   \n",
       "25%    8.127325e+04   3.950675e+04  1.718665e+05        226.267129   \n",
       "50%    3.097340e+05   1.472355e+05  4.591248e+05        234.226904   \n",
       "75%    5.783400e+05   2.843505e+05  8.860948e+05        240.163315   \n",
       "max    3.929869e+06   2.013687e+06  5.944746e+06        253.420961   \n",
       "\n",
       "       AVG_MATH_8_SCORE  AVG_READING_4_SCORE  AVG_READING_8_SCORE  \n",
       "count       1492.000000          1492.000000          1491.000000  \n",
       "mean         275.734024           218.971553           263.267799  \n",
       "std            8.754805             5.959927             4.978792  \n",
       "min          232.831510           178.557612           236.379102  \n",
       "25%          270.096001           216.126818           260.490023  \n",
       "50%          275.711254           219.771325           262.617766  \n",
       "75%          282.702092           222.684611           266.849675  \n",
       "max          300.568235           236.773867           280.499130  \n",
       "\n",
       "[8 rows x 23 columns]"
      ]
     },
     "execution_count": 7,
     "metadata": {},
     "output_type": "execute_result"
    }
   ],
   "source": [
    "df.describe()"
   ]
  },
  {
   "cell_type": "code",
   "execution_count": 8,
   "metadata": {},
   "outputs": [],
   "source": [
    "for i in range(len(df['AVG_READING_8_SCORE'])):\n",
    "    if pd.isnull((df['AVG_READING_8_SCORE'][i])):\n",
    "        df['AVG_READING_8_SCORE'][i] = df['AVG_READING_8_SCORE'][i + 1]"
   ]
  },
  {
   "cell_type": "code",
   "execution_count": 9,
   "metadata": {},
   "outputs": [
    {
     "data": {
      "text/html": [
       "<div>\n",
       "<style scoped>\n",
       "    .dataframe tbody tr th:only-of-type {\n",
       "        vertical-align: middle;\n",
       "    }\n",
       "\n",
       "    .dataframe tbody tr th {\n",
       "        vertical-align: top;\n",
       "    }\n",
       "\n",
       "    .dataframe thead th {\n",
       "        text-align: right;\n",
       "    }\n",
       "</style>\n",
       "<table border=\"1\" class=\"dataframe\">\n",
       "  <thead>\n",
       "    <tr style=\"text-align: right;\">\n",
       "      <th></th>\n",
       "      <th>YEAR</th>\n",
       "      <th>ENROLL</th>\n",
       "      <th>TOTAL_REVENUE</th>\n",
       "      <th>FEDERAL_REVENUE</th>\n",
       "      <th>STATE_REVENUE</th>\n",
       "      <th>LOCAL_REVENUE</th>\n",
       "      <th>TOTAL_EXPENDITURE</th>\n",
       "      <th>INSTRUCTION_EXPENDITURE</th>\n",
       "      <th>SUPPORT_SERVICES_EXPENDITURE</th>\n",
       "      <th>OTHER_EXPENDITURE</th>\n",
       "      <th>...</th>\n",
       "      <th>GRADES_4_G</th>\n",
       "      <th>GRADES_8_G</th>\n",
       "      <th>GRADES_12_G</th>\n",
       "      <th>GRADES_1_8_G</th>\n",
       "      <th>GRADES_9_12_G</th>\n",
       "      <th>GRADES_ALL_G</th>\n",
       "      <th>AVG_MATH_4_SCORE</th>\n",
       "      <th>AVG_MATH_8_SCORE</th>\n",
       "      <th>AVG_READING_4_SCORE</th>\n",
       "      <th>AVG_READING_8_SCORE</th>\n",
       "    </tr>\n",
       "  </thead>\n",
       "  <tbody>\n",
       "    <tr>\n",
       "      <th>count</th>\n",
       "      <td>1492.000000</td>\n",
       "      <td>1.456000e+03</td>\n",
       "      <td>1.492000e+03</td>\n",
       "      <td>1.492000e+03</td>\n",
       "      <td>1.492000e+03</td>\n",
       "      <td>1.492000e+03</td>\n",
       "      <td>1.492000e+03</td>\n",
       "      <td>1.492000e+03</td>\n",
       "      <td>1.492000e+03</td>\n",
       "      <td>1.456000e+03</td>\n",
       "      <td>...</td>\n",
       "      <td>1492.000000</td>\n",
       "      <td>1492.000000</td>\n",
       "      <td>1492.000000</td>\n",
       "      <td>1.492000e+03</td>\n",
       "      <td>1.492000e+03</td>\n",
       "      <td>1.492000e+03</td>\n",
       "      <td>1492.000000</td>\n",
       "      <td>1492.000000</td>\n",
       "      <td>1492.000000</td>\n",
       "      <td>1492.000000</td>\n",
       "    </tr>\n",
       "    <tr>\n",
       "      <th>mean</th>\n",
       "      <td>2004.433646</td>\n",
       "      <td>1.005984e+06</td>\n",
       "      <td>1.111164e+07</td>\n",
       "      <td>8.922691e+05</td>\n",
       "      <td>4.913351e+06</td>\n",
       "      <td>5.306024e+06</td>\n",
       "      <td>1.114374e+07</td>\n",
       "      <td>5.792260e+06</td>\n",
       "      <td>3.324275e+06</td>\n",
       "      <td>5.004288e+05</td>\n",
       "      <td>...</td>\n",
       "      <td>59797.646113</td>\n",
       "      <td>59511.380027</td>\n",
       "      <td>50207.239276</td>\n",
       "      <td>4.810102e+05</td>\n",
       "      <td>2.286678e+05</td>\n",
       "      <td>7.478782e+05</td>\n",
       "      <td>232.723472</td>\n",
       "      <td>275.734024</td>\n",
       "      <td>218.971553</td>\n",
       "      <td>263.264844</td>\n",
       "    </tr>\n",
       "    <tr>\n",
       "      <th>std</th>\n",
       "      <td>7.393983</td>\n",
       "      <td>1.009158e+06</td>\n",
       "      <td>1.200155e+07</td>\n",
       "      <td>1.106788e+06</td>\n",
       "      <td>5.423675e+06</td>\n",
       "      <td>5.900909e+06</td>\n",
       "      <td>1.212433e+07</td>\n",
       "      <td>6.376549e+06</td>\n",
       "      <td>3.500830e+06</td>\n",
       "      <td>5.253843e+05</td>\n",
       "      <td>...</td>\n",
       "      <td>78406.899202</td>\n",
       "      <td>77123.573668</td>\n",
       "      <td>66309.867155</td>\n",
       "      <td>6.286622e+05</td>\n",
       "      <td>3.005815e+05</td>\n",
       "      <td>9.291585e+05</td>\n",
       "      <td>9.405215</td>\n",
       "      <td>8.754805</td>\n",
       "      <td>5.959927</td>\n",
       "      <td>4.978430</td>\n",
       "    </tr>\n",
       "    <tr>\n",
       "      <th>min</th>\n",
       "      <td>1992.000000</td>\n",
       "      <td>4.386600e+04</td>\n",
       "      <td>4.656500e+05</td>\n",
       "      <td>3.102000e+04</td>\n",
       "      <td>0.000000e+00</td>\n",
       "      <td>2.209300e+04</td>\n",
       "      <td>4.816650e+05</td>\n",
       "      <td>2.655490e+05</td>\n",
       "      <td>1.399630e+05</td>\n",
       "      <td>1.154100e+04</td>\n",
       "      <td>...</td>\n",
       "      <td>633.000000</td>\n",
       "      <td>437.000000</td>\n",
       "      <td>311.000000</td>\n",
       "      <td>4.878000e+03</td>\n",
       "      <td>1.808000e+03</td>\n",
       "      <td>7.254000e+03</td>\n",
       "      <td>187.134670</td>\n",
       "      <td>232.831510</td>\n",
       "      <td>178.557612</td>\n",
       "      <td>236.379102</td>\n",
       "    </tr>\n",
       "    <tr>\n",
       "      <th>25%</th>\n",
       "      <td>1998.000000</td>\n",
       "      <td>2.973995e+05</td>\n",
       "      <td>2.546261e+06</td>\n",
       "      <td>2.170200e+05</td>\n",
       "      <td>1.356434e+06</td>\n",
       "      <td>9.447962e+05</td>\n",
       "      <td>2.523968e+06</td>\n",
       "      <td>1.343611e+06</td>\n",
       "      <td>7.673688e+05</td>\n",
       "      <td>1.279618e+05</td>\n",
       "      <td>...</td>\n",
       "      <td>10117.250000</td>\n",
       "      <td>10252.000000</td>\n",
       "      <td>8951.000000</td>\n",
       "      <td>8.127325e+04</td>\n",
       "      <td>3.950675e+04</td>\n",
       "      <td>1.718665e+05</td>\n",
       "      <td>226.267129</td>\n",
       "      <td>270.096001</td>\n",
       "      <td>216.126818</td>\n",
       "      <td>260.487961</td>\n",
       "    </tr>\n",
       "    <tr>\n",
       "      <th>50%</th>\n",
       "      <td>2004.000000</td>\n",
       "      <td>7.540845e+05</td>\n",
       "      <td>6.351760e+06</td>\n",
       "      <td>5.165190e+05</td>\n",
       "      <td>3.119414e+06</td>\n",
       "      <td>2.650904e+06</td>\n",
       "      <td>6.499891e+06</td>\n",
       "      <td>3.318778e+06</td>\n",
       "      <td>1.910412e+06</td>\n",
       "      <td>3.415810e+05</td>\n",
       "      <td>...</td>\n",
       "      <td>38280.500000</td>\n",
       "      <td>38114.500000</td>\n",
       "      <td>33279.000000</td>\n",
       "      <td>3.097340e+05</td>\n",
       "      <td>1.472355e+05</td>\n",
       "      <td>4.591248e+05</td>\n",
       "      <td>234.226904</td>\n",
       "      <td>275.711254</td>\n",
       "      <td>219.771325</td>\n",
       "      <td>262.615528</td>\n",
       "    </tr>\n",
       "    <tr>\n",
       "      <th>75%</th>\n",
       "      <td>2011.000000</td>\n",
       "      <td>1.595024e+06</td>\n",
       "      <td>1.803650e+07</td>\n",
       "      <td>1.411794e+06</td>\n",
       "      <td>8.020633e+06</td>\n",
       "      <td>8.584803e+06</td>\n",
       "      <td>1.801704e+07</td>\n",
       "      <td>9.130766e+06</td>\n",
       "      <td>5.435244e+06</td>\n",
       "      <td>8.490842e+05</td>\n",
       "      <td>...</td>\n",
       "      <td>72310.250000</td>\n",
       "      <td>72598.250000</td>\n",
       "      <td>64920.500000</td>\n",
       "      <td>5.783400e+05</td>\n",
       "      <td>2.843505e+05</td>\n",
       "      <td>8.860948e+05</td>\n",
       "      <td>240.163315</td>\n",
       "      <td>282.702092</td>\n",
       "      <td>222.684611</td>\n",
       "      <td>266.847503</td>\n",
       "    </tr>\n",
       "    <tr>\n",
       "      <th>max</th>\n",
       "      <td>2017.000000</td>\n",
       "      <td>6.307022e+06</td>\n",
       "      <td>8.921726e+07</td>\n",
       "      <td>9.990221e+06</td>\n",
       "      <td>5.090457e+07</td>\n",
       "      <td>3.610526e+07</td>\n",
       "      <td>8.532013e+07</td>\n",
       "      <td>4.396452e+07</td>\n",
       "      <td>2.605802e+07</td>\n",
       "      <td>3.995951e+06</td>\n",
       "      <td>...</td>\n",
       "      <td>493415.000000</td>\n",
       "      <td>500143.000000</td>\n",
       "      <td>498403.000000</td>\n",
       "      <td>3.929869e+06</td>\n",
       "      <td>2.013687e+06</td>\n",
       "      <td>5.944746e+06</td>\n",
       "      <td>253.420961</td>\n",
       "      <td>300.568235</td>\n",
       "      <td>236.773867</td>\n",
       "      <td>280.499130</td>\n",
       "    </tr>\n",
       "  </tbody>\n",
       "</table>\n",
       "<p>8 rows × 23 columns</p>\n",
       "</div>"
      ],
      "text/plain": [
       "              YEAR        ENROLL  TOTAL_REVENUE  FEDERAL_REVENUE  \\\n",
       "count  1492.000000  1.456000e+03   1.492000e+03     1.492000e+03   \n",
       "mean   2004.433646  1.005984e+06   1.111164e+07     8.922691e+05   \n",
       "std       7.393983  1.009158e+06   1.200155e+07     1.106788e+06   \n",
       "min    1992.000000  4.386600e+04   4.656500e+05     3.102000e+04   \n",
       "25%    1998.000000  2.973995e+05   2.546261e+06     2.170200e+05   \n",
       "50%    2004.000000  7.540845e+05   6.351760e+06     5.165190e+05   \n",
       "75%    2011.000000  1.595024e+06   1.803650e+07     1.411794e+06   \n",
       "max    2017.000000  6.307022e+06   8.921726e+07     9.990221e+06   \n",
       "\n",
       "       STATE_REVENUE  LOCAL_REVENUE  TOTAL_EXPENDITURE  \\\n",
       "count   1.492000e+03   1.492000e+03       1.492000e+03   \n",
       "mean    4.913351e+06   5.306024e+06       1.114374e+07   \n",
       "std     5.423675e+06   5.900909e+06       1.212433e+07   \n",
       "min     0.000000e+00   2.209300e+04       4.816650e+05   \n",
       "25%     1.356434e+06   9.447962e+05       2.523968e+06   \n",
       "50%     3.119414e+06   2.650904e+06       6.499891e+06   \n",
       "75%     8.020633e+06   8.584803e+06       1.801704e+07   \n",
       "max     5.090457e+07   3.610526e+07       8.532013e+07   \n",
       "\n",
       "       INSTRUCTION_EXPENDITURE  SUPPORT_SERVICES_EXPENDITURE  \\\n",
       "count             1.492000e+03                  1.492000e+03   \n",
       "mean              5.792260e+06                  3.324275e+06   \n",
       "std               6.376549e+06                  3.500830e+06   \n",
       "min               2.655490e+05                  1.399630e+05   \n",
       "25%               1.343611e+06                  7.673688e+05   \n",
       "50%               3.318778e+06                  1.910412e+06   \n",
       "75%               9.130766e+06                  5.435244e+06   \n",
       "max               4.396452e+07                  2.605802e+07   \n",
       "\n",
       "       OTHER_EXPENDITURE  ...     GRADES_4_G     GRADES_8_G    GRADES_12_G  \\\n",
       "count       1.456000e+03  ...    1492.000000    1492.000000    1492.000000   \n",
       "mean        5.004288e+05  ...   59797.646113   59511.380027   50207.239276   \n",
       "std         5.253843e+05  ...   78406.899202   77123.573668   66309.867155   \n",
       "min         1.154100e+04  ...     633.000000     437.000000     311.000000   \n",
       "25%         1.279618e+05  ...   10117.250000   10252.000000    8951.000000   \n",
       "50%         3.415810e+05  ...   38280.500000   38114.500000   33279.000000   \n",
       "75%         8.490842e+05  ...   72310.250000   72598.250000   64920.500000   \n",
       "max         3.995951e+06  ...  493415.000000  500143.000000  498403.000000   \n",
       "\n",
       "       GRADES_1_8_G  GRADES_9_12_G  GRADES_ALL_G  AVG_MATH_4_SCORE  \\\n",
       "count  1.492000e+03   1.492000e+03  1.492000e+03       1492.000000   \n",
       "mean   4.810102e+05   2.286678e+05  7.478782e+05        232.723472   \n",
       "std    6.286622e+05   3.005815e+05  9.291585e+05          9.405215   \n",
       "min    4.878000e+03   1.808000e+03  7.254000e+03        187.134670   \n",
       "25%    8.127325e+04   3.950675e+04  1.718665e+05        226.267129   \n",
       "50%    3.097340e+05   1.472355e+05  4.591248e+05        234.226904   \n",
       "75%    5.783400e+05   2.843505e+05  8.860948e+05        240.163315   \n",
       "max    3.929869e+06   2.013687e+06  5.944746e+06        253.420961   \n",
       "\n",
       "       AVG_MATH_8_SCORE  AVG_READING_4_SCORE  AVG_READING_8_SCORE  \n",
       "count       1492.000000          1492.000000          1492.000000  \n",
       "mean         275.734024           218.971553           263.264844  \n",
       "std            8.754805             5.959927             4.978430  \n",
       "min          232.831510           178.557612           236.379102  \n",
       "25%          270.096001           216.126818           260.487961  \n",
       "50%          275.711254           219.771325           262.615528  \n",
       "75%          282.702092           222.684611           266.847503  \n",
       "max          300.568235           236.773867           280.499130  \n",
       "\n",
       "[8 rows x 23 columns]"
      ]
     },
     "execution_count": 9,
     "metadata": {},
     "output_type": "execute_result"
    }
   ],
   "source": [
    "df.describe()"
   ]
  },
  {
   "cell_type": "markdown",
   "metadata": {},
   "source": [
    "1. Create a new score variable from the weighted averages of all score variables in the datasets. **Notice that the number of students in the 4th grade isn't the same as the number of students in the 8th grade. So, you should appropriately weigh the scores!**.\n",
    "2. What are the correlations between this newly created score variable and the expenditure types? Which 1 of the expenditure types is more correlated than the others?\n",
    "3. Now, apply PCA to the 4 expenditure types. How much of the total variance is explained by the 1st component?\n",
    "4. What is the correlation between the overall score variable and the 1st principal component? \n",
    "5. If you were to choose the best variables for your model, would you prefer using the 1st principal component instead of the expenditure variables? Why?"
   ]
  },
  {
   "cell_type": "markdown",
   "metadata": {},
   "source": [
    "__1. Create a new score variable from the weighted averages of all score variables in the datasets. **Notice that the number of students in the 4th grade isn't the same as the number of students in the 8th grade. So, you should appropriately weigh the scores!**.__"
   ]
  },
  {
   "cell_type": "code",
   "execution_count": 10,
   "metadata": {},
   "outputs": [],
   "source": [
    "#create weights based on proportion of number of students\n",
    "df['G4_Weight'] = df['GRADES_4_G'] / (df['GRADES_4_G'] + df['GRADES_8_G'])\n",
    "df['G8_Weight'] = df['GRADES_8_G'] / (df['GRADES_4_G'] + df['GRADES_8_G'])\n",
    "\n",
    "#create our new target value\n",
    "df['AVG_SCORE'] = (df['AVG_READING_4_SCORE'] + df['AVG_MATH_4_SCORE']) * df['G4_Weight'] + (df['AVG_READING_8_SCORE'] + df['AVG_MATH_8_SCORE']) * df['G8_Weight']"
   ]
  },
  {
   "cell_type": "code",
   "execution_count": 11,
   "metadata": {},
   "outputs": [
    {
     "data": {
      "text/plain": [
       "count    1492.000000\n",
       "mean      494.958181\n",
       "std        12.356028\n",
       "min       421.589227\n",
       "25%       487.061392\n",
       "50%       495.901521\n",
       "75%       504.390294\n",
       "max       529.392858\n",
       "Name: AVG_SCORE, dtype: float64"
      ]
     },
     "execution_count": 11,
     "metadata": {},
     "output_type": "execute_result"
    }
   ],
   "source": [
    "df['AVG_SCORE'].describe()"
   ]
  },
  {
   "cell_type": "code",
   "execution_count": 12,
   "metadata": {},
   "outputs": [
    {
     "data": {
      "image/png": "[encoded data removed]",
      "text/plain": [
       "<Figure size 432x288 with 1 Axes>"
      ]
     },
     "metadata": {
      "needs_background": "light"
     },
     "output_type": "display_data"
    }
   ],
   "source": [
    "sns.distplot(df['AVG_SCORE'])\n",
    "plt.title('New Average Score Marker')\n",
    "plt.show()"
   ]
  },
  {
   "cell_type": "code",
   "execution_count": 13,
   "metadata": {},
   "outputs": [
    {
     "data": {
      "text/plain": [
       "Index(['PRIMARY_KEY', 'STATE', 'YEAR', 'ENROLL', 'TOTAL_REVENUE',\n",
       "       'FEDERAL_REVENUE', 'STATE_REVENUE', 'LOCAL_REVENUE',\n",
       "       'TOTAL_EXPENDITURE', 'INSTRUCTION_EXPENDITURE',\n",
       "       'SUPPORT_SERVICES_EXPENDITURE', 'OTHER_EXPENDITURE',\n",
       "       'CAPITAL_OUTLAY_EXPENDITURE', 'GRADES_PK_G', 'GRADES_KG_G',\n",
       "       'GRADES_4_G', 'GRADES_8_G', 'GRADES_12_G', 'GRADES_1_8_G',\n",
       "       'GRADES_9_12_G', 'GRADES_ALL_G', 'AVG_MATH_4_SCORE', 'AVG_MATH_8_SCORE',\n",
       "       'AVG_READING_4_SCORE', 'AVG_READING_8_SCORE', 'G4_Weight', 'G8_Weight',\n",
       "       'AVG_SCORE'],\n",
       "      dtype='object')"
      ]
     },
     "execution_count": 13,
     "metadata": {},
     "output_type": "execute_result"
    }
   ],
   "source": [
    "df.columns"
   ]
  },
  {
   "cell_type": "markdown",
   "metadata": {},
   "source": [
    "__2. What are the correlations between this newly created score variable and the expenditure types? Which 1 of the expenditure types is more correlated than the others?__"
   ]
  },
  {
   "cell_type": "code",
   "execution_count": 18,
   "metadata": {},
   "outputs": [
    {
     "data": {
      "image/png": "[encoded data removed]",
      "text/plain": [
       "<Figure size 432x288 with 1 Axes>"
      ]
     },
     "metadata": {
      "needs_background": "light"
     },
     "output_type": "display_data"
    },
    {
     "data": {
      "image/png": "[encoded data removed]",
      "text/plain": [
       "<Figure size 432x288 with 1 Axes>"
      ]
     },
     "metadata": {
      "needs_background": "light"
     },
     "output_type": "display_data"
    },
    {
     "data": {
      "image/png": "[encoded data removed]",
      "text/plain": [
       "<Figure size 432x288 with 1 Axes>"
      ]
     },
     "metadata": {
      "needs_background": "light"
     },
     "output_type": "display_data"
    },
    {
     "data": {
      "image/png": "[encoded data removed]",
      "text/plain": [
       "<Figure size 432x288 with 1 Axes>"
      ]
     },
     "metadata": {
      "needs_background": "light"
     },
     "output_type": "display_data"
    }
   ],
   "source": [
    "expenditures = ['INSTRUCTION_EXPENDITURE', 'SUPPORT_SERVICES_EXPENDITURE', 'OTHER_EXPENDITURE', 'CAPITAL_OUTLAY_EXPENDITURE', 'AVG_SCORE']\n",
    "\n",
    "expenditure_df = df.loc[:, expenditures]\n",
    "for i in range(len(expenditure_df.columns) - 1):\n",
    "    sns.regplot(x=expenditures[i], y='AVG_SCORE', data=df)\n",
    "    plt.title('{} vs Average Score'.format(expenditures[i]))\n",
    "    plt.show()"
   ]
  },
  {
   "cell_type": "code",
   "execution_count": 19,
   "metadata": {},
   "outputs": [
    {
     "data": {
      "image/png": "[encoded data removed]",
      "text/plain": [
       "<Figure size 432x288 with 2 Axes>"
      ]
     },
     "metadata": {
      "needs_background": "light"
     },
     "output_type": "display_data"
    }
   ],
   "source": [
    "sns.heatmap(expenditure_df.corr(), square=True, annot=True, linewidth=0.5)\n",
    "\n",
    "plt.show()"
   ]
  },
  {
   "cell_type": "markdown",
   "metadata": {},
   "source": [
    "__3. Now, apply PCA to the 4 expenditure types. How much of the total variance is explained by the 1st component?__"
   ]
  },
  {
   "cell_type": "code",
   "execution_count": 20,
   "metadata": {},
   "outputs": [],
   "source": [
    "from matplotlib.mlab import PCA as mlabPCA\n",
    "from sklearn.preprocessing import StandardScaler\n",
    "from sklearn.decomposition import PCA"
   ]
  },
  {
   "cell_type": "code",
   "execution_count": 21,
   "metadata": {},
   "outputs": [
    {
     "data": {
      "text/html": [
       "<div>\n",
       "<style scoped>\n",
       "    .dataframe tbody tr th:only-of-type {\n",
       "        vertical-align: middle;\n",
       "    }\n",
       "\n",
       "    .dataframe tbody tr th {\n",
       "        vertical-align: top;\n",
       "    }\n",
       "\n",
       "    .dataframe thead th {\n",
       "        text-align: right;\n",
       "    }\n",
       "</style>\n",
       "<table border=\"1\" class=\"dataframe\">\n",
       "  <thead>\n",
       "    <tr style=\"text-align: right;\">\n",
       "      <th></th>\n",
       "      <th>INSTRUCTION_EXPENDITURE</th>\n",
       "      <th>SUPPORT_SERVICES_EXPENDITURE</th>\n",
       "      <th>OTHER_EXPENDITURE</th>\n",
       "      <th>CAPITAL_OUTLAY_EXPENDITURE</th>\n",
       "      <th>AVG_SCORE</th>\n",
       "    </tr>\n",
       "  </thead>\n",
       "  <tbody>\n",
       "    <tr>\n",
       "      <th>count</th>\n",
       "      <td>1.456000e+03</td>\n",
       "      <td>1.456000e+03</td>\n",
       "      <td>1.456000e+03</td>\n",
       "      <td>1.456000e+03</td>\n",
       "      <td>1456.000000</td>\n",
       "    </tr>\n",
       "    <tr>\n",
       "      <th>mean</th>\n",
       "      <td>5.871507e+06</td>\n",
       "      <td>3.370642e+06</td>\n",
       "      <td>5.004288e+05</td>\n",
       "      <td>1.049006e+06</td>\n",
       "      <td>495.369358</td>\n",
       "    </tr>\n",
       "    <tr>\n",
       "      <th>std</th>\n",
       "      <td>6.415787e+06</td>\n",
       "      <td>3.520831e+06</td>\n",
       "      <td>5.253843e+05</td>\n",
       "      <td>1.282479e+06</td>\n",
       "      <td>12.003558</td>\n",
       "    </tr>\n",
       "    <tr>\n",
       "      <th>min</th>\n",
       "      <td>2.655490e+05</td>\n",
       "      <td>1.399630e+05</td>\n",
       "      <td>1.154100e+04</td>\n",
       "      <td>1.270800e+04</td>\n",
       "      <td>421.589227</td>\n",
       "    </tr>\n",
       "    <tr>\n",
       "      <th>25%</th>\n",
       "      <td>1.365708e+06</td>\n",
       "      <td>7.810895e+05</td>\n",
       "      <td>1.279618e+05</td>\n",
       "      <td>2.245848e+05</td>\n",
       "      <td>487.411717</td>\n",
       "    </tr>\n",
       "    <tr>\n",
       "      <th>50%</th>\n",
       "      <td>3.427804e+06</td>\n",
       "      <td>1.965748e+06</td>\n",
       "      <td>3.415810e+05</td>\n",
       "      <td>6.632450e+05</td>\n",
       "      <td>496.243302</td>\n",
       "    </tr>\n",
       "    <tr>\n",
       "      <th>75%</th>\n",
       "      <td>9.406610e+06</td>\n",
       "      <td>5.682262e+06</td>\n",
       "      <td>8.490842e+05</td>\n",
       "      <td>1.775732e+06</td>\n",
       "      <td>504.645499</td>\n",
       "    </tr>\n",
       "    <tr>\n",
       "      <th>max</th>\n",
       "      <td>4.396452e+07</td>\n",
       "      <td>2.605802e+07</td>\n",
       "      <td>3.995951e+06</td>\n",
       "      <td>1.022366e+07</td>\n",
       "      <td>529.392858</td>\n",
       "    </tr>\n",
       "  </tbody>\n",
       "</table>\n",
       "</div>"
      ],
      "text/plain": [
       "       INSTRUCTION_EXPENDITURE  SUPPORT_SERVICES_EXPENDITURE  \\\n",
       "count             1.456000e+03                  1.456000e+03   \n",
       "mean              5.871507e+06                  3.370642e+06   \n",
       "std               6.415787e+06                  3.520831e+06   \n",
       "min               2.655490e+05                  1.399630e+05   \n",
       "25%               1.365708e+06                  7.810895e+05   \n",
       "50%               3.427804e+06                  1.965748e+06   \n",
       "75%               9.406610e+06                  5.682262e+06   \n",
       "max               4.396452e+07                  2.605802e+07   \n",
       "\n",
       "       OTHER_EXPENDITURE  CAPITAL_OUTLAY_EXPENDITURE    AVG_SCORE  \n",
       "count       1.456000e+03                1.456000e+03  1456.000000  \n",
       "mean        5.004288e+05                1.049006e+06   495.369358  \n",
       "std         5.253843e+05                1.282479e+06    12.003558  \n",
       "min         1.154100e+04                1.270800e+04   421.589227  \n",
       "25%         1.279618e+05                2.245848e+05   487.411717  \n",
       "50%         3.415810e+05                6.632450e+05   496.243302  \n",
       "75%         8.490842e+05                1.775732e+06   504.645499  \n",
       "max         3.995951e+06                1.022366e+07   529.392858  "
      ]
     },
     "execution_count": 21,
     "metadata": {},
     "output_type": "execute_result"
    }
   ],
   "source": [
    "expenditure_df = expenditure_df.dropna()\n",
    "expenditure_df.describe()"
   ]
  },
  {
   "cell_type": "markdown",
   "metadata": {},
   "source": [
    "### Am I supposed to include my 'target' in my X?"
   ]
  },
  {
   "cell_type": "code",
   "execution_count": 22,
   "metadata": {},
   "outputs": [
    {
     "name": "stdout",
     "output_type": "stream",
     "text": [
      "Covariance Matrix:\n",
      " [[1.00068729 0.9798382  0.92092949 0.8961425  0.2072732 ]\n",
      " [0.9798382  1.00068729 0.95406604 0.90588729 0.22197675]\n",
      " [0.92092949 0.95406604 1.00068729 0.92410241 0.16989205]\n",
      " [0.8961425  0.90588729 0.92410241 1.00068729 0.12817469]\n",
      " [0.2072732  0.22197675 0.16989205 0.12817469 1.00068729]]\n"
     ]
    }
   ],
   "source": [
    "# Normalize the data so that all variables have a mean of 0 and standard deviation of 1.\n",
    "X = StandardScaler().fit_transform(expenditure_df)\n",
    "\n",
    "# The NumPy covariance function assumes that variables are represented by rows, not columns, so we transpose X.\n",
    "Xt = X.T\n",
    "Cx = np.cov(Xt)\n",
    "print('Covariance Matrix:\\n', Cx)"
   ]
  },
  {
   "cell_type": "code",
   "execution_count": 23,
   "metadata": {},
   "outputs": [
    {
     "name": "stdout",
     "output_type": "stream",
     "text": [
      "Eigenvalue 1: is 3.8384341088615868\n",
      "Eigenvalue 2: is 0.9594873034162674\n",
      "Eigenvalue 3: is 0.013897665324528503\n",
      "Eigenvalue 4: is 0.12222768057920269\n",
      "Eigenvalue 5: is 0.0693896679352515\n"
     ]
    }
   ],
   "source": [
    "eig_val_cov, eig_vec_cov = np.linalg.eig(Cx)\n",
    "\n",
    "for i in range(len(eig_val_cov)):\n",
    "    print('Eigenvalue {}: is {}'.format(i + 1, eig_val_cov[i]))"
   ]
  },
  {
   "cell_type": "code",
   "execution_count": 24,
   "metadata": {},
   "outputs": [
    {
     "data": {
      "image/png": "[encoded data removed]",
      "text/plain": [
       "<Figure size 432x288 with 1 Axes>"
      ]
     },
     "metadata": {
      "needs_background": "light"
     },
     "output_type": "display_data"
    }
   ],
   "source": [
    "plt.plot(eig_val_cov)\n",
    "plt.title('Eigen Value')\n",
    "plt.show()"
   ]
  },
  {
   "cell_type": "markdown",
   "metadata": {},
   "source": [
    "## What are the best ways to determine the n_components?"
   ]
  },
  {
   "cell_type": "code",
   "execution_count": 59,
   "metadata": {},
   "outputs": [
    {
     "data": {
      "text/plain": [
       "array([3.83843411, 0.9594873 , 0.12222768, 0.06938967, 0.01389767])"
      ]
     },
     "execution_count": 59,
     "metadata": {},
     "output_type": "execute_result"
    }
   ],
   "source": [
    "sklearn_pca.explained_variance_"
   ]
  },
  {
   "cell_type": "markdown",
   "metadata": {},
   "source": [
    "## SKlearn and explained variance ratio"
   ]
  },
  {
   "cell_type": "code",
   "execution_count": 58,
   "metadata": {
    "scrolled": false
   },
   "outputs": [
    {
     "name": "stdout",
     "output_type": "stream",
     "text": [
      "The percentage of total variance in the dataset explained by each component from Sklearn PCA.\n",
      " [0.76715956 0.19176566 0.02442875 0.0138684  0.00277762]\n"
     ]
    }
   ],
   "source": [
    "#account for 75% of the data\n",
    "sklearn_pca = PCA(n_components=5)\n",
    "Y = sklearn_pca.fit_transform(X)\n",
    "\n",
    "print(\n",
    "    'The percentage of total variance in the dataset explained by each',\n",
    "    'component from Sklearn PCA.\\n',\n",
    "    sklearn_pca.explained_variance_ratio_\n",
    ")\n"
   ]
  },
  {
   "cell_type": "markdown",
   "metadata": {},
   "source": [
    "It looks like the 1st component explain over 76% of the variance."
   ]
  },
  {
   "cell_type": "markdown",
   "metadata": {},
   "source": [
    "## SKLEARN and Explained Variance"
   ]
  },
  {
   "cell_type": "code",
   "execution_count": 62,
   "metadata": {},
   "outputs": [
    {
     "data": {
      "image/png": "[encoded data removed]",
      "text/plain": [
       "<Figure size 432x288 with 1 Axes>"
      ]
     },
     "metadata": {
      "needs_background": "light"
     },
     "output_type": "display_data"
    }
   ],
   "source": [
    "plt.plot(sklearn_pca.explained_variance_)\n",
    "plt.show()"
   ]
  },
  {
   "cell_type": "markdown",
   "metadata": {},
   "source": [
    "__4. What is the correlation between the overall score variable and the 1st principal component?__"
   ]
  },
  {
   "cell_type": "code",
   "execution_count": 63,
   "metadata": {},
   "outputs": [
    {
     "data": {
      "image/png": "[encoded data removed]",
      "text/plain": [
       "<Figure size 432x288 with 1 Axes>"
      ]
     },
     "metadata": {
      "needs_background": "light"
     },
     "output_type": "display_data"
    }
   ],
   "source": [
    "sns.regplot(Y[:, 0], expenditure_df['AVG_SCORE'])\n",
    "plt.show()"
   ]
  },
  {
   "cell_type": "code",
   "execution_count": 71,
   "metadata": {},
   "outputs": [
    {
     "name": "stdout",
     "output_type": "stream",
     "text": [
      "The correlation between our principal component and our target variable is 0.24954751796828942 and our p-value is 4.1522388243541907e-22\n"
     ]
    }
   ],
   "source": [
    "corr, p_value = stats.pearsonr(Y[:, 0], expenditure_df['AVG_SCORE'])\n",
    "\n",
    "print('The correlation between our principal component and our target variable is {} and our p-value is {}'.format(corr, p_value))"
   ]
  },
  {
   "cell_type": "markdown",
   "metadata": {},
   "source": [
    "__5. If you were to choose the best variables for your model, would you prefer using the 1st principal component instead of the expenditure variables? Why?__"
   ]
  },
  {
   "cell_type": "markdown",
   "metadata": {},
   "source": [
    "There seems to be a stronger correlation between our principal component and any singular variable alone (highest roughly 23%) and it has the benefit of decreased dimensionality which can help with potential overfitting.\n",
    "\n",
    "A drawback is that this feature is much harder to interpret than the others. Is this tradeoff enough to make using the PC worthwhile?"
   ]
  },
  {
   "cell_type": "code",
   "execution_count": null,
   "metadata": {},
   "outputs": [],
   "source": []
  }
 ],
 "metadata": {
  "kernelspec": {
   "display_name": "Python 3",
   "language": "python",
   "name": "python3"
  },
  "language_info": {
   "codemirror_mode": {
    "name": "ipython",
    "version": 3
   },
   "file_extension": ".py",
   "mimetype": "text/x-python",
   "name": "python",
   "nbconvert_exporter": "python",
   "pygments_lexer": "ipython3",
   "version": "3.7.3"
  }
 },
 "nbformat": 4,
 "nbformat_minor": 2
}
